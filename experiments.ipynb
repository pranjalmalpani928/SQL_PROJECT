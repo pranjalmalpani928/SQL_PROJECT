{
 "cells": [
  {
   "cell_type": "code",
   "execution_count": 16,
   "id": "af820f22",
   "metadata": {},
   "outputs": [
    {
     "name": "stdout",
     "output_type": "stream",
     "text": [
      "['# SQL_PROJECT\\n', '\\\\\\\\\\\\\\n', 'conda activate condaVenv\\\\\\n', '\\\\\\\\\\\\\\n', '\\n', 'To setup CI - CD pipeline  we need \\n', '1. HEROKU_EMAIL\\n', '2. HEROKU_API_KEY\\n', '3. HEROKU_APP_NAME']\n"
     ]
    }
   ],
   "source": []
  },
  {
   "cell_type": "code",
   "execution_count": 2,
   "id": "ec25f4b6",
   "metadata": {},
   "outputs": [],
   "source": [
    "import sys\n",
    "\n",
    "class CustomException(Exception):\n",
    "    def __init__(self, error_message:Exception, error_details:sys):\n",
    "        super().__init__(error_message)\n",
    "        self.error_message=CustomException.customErrorMessage(error_message,error_details)\n",
    "\n",
    "\n",
    "#  static method are methods which can be called without calling the object\n",
    "    @staticmethod \n",
    "    def customErrorMessage(error_message:Exception,error_details:sys)->str:\n",
    "\n",
    "        # exception file path, line number\n",
    "        _,exc_obj,exc_tb=error_details.exc_info()\n",
    "        line_number=exc_tb.tb_frame.f_lineno\n",
    "        file_name=exc_tb.tb_frame.f_code.co_filename\n",
    "        error_message= f'Error occured in script [{file_name}], in the line number [{line_number}] with\\\n",
    "              the error message [{error_message}]'\n",
    "        return error_message\n",
    "    \n",
    "    def __str__(self):\n",
    "        return self.error_message"
   ]
  },
  {
   "cell_type": "code",
   "execution_count": 5,
   "id": "35a8764c",
   "metadata": {},
   "outputs": [
    {
     "name": "stdout",
     "output_type": "stream",
     "text": [
      "Error occured in script [C:\\Users\\om\\AppData\\Local\\Temp\\ipykernel_12756\\3324237162.py], in the line number [4] with              the error message [we are testing custom exception]\n"
     ]
    }
   ],
   "source": [
    "try:\n",
    "    raise Exception('we are testing custom exception')\n",
    "except Exception as e:\n",
    "    print(CustomException(e,sys).error_message)\n",
    "   "
   ]
  },
  {
   "cell_type": "code",
   "execution_count": null,
   "id": "1970a60d",
   "metadata": {},
   "outputs": [],
   "source": []
  },
  {
   "cell_type": "code",
   "execution_count": null,
   "id": "903dee10",
   "metadata": {},
   "outputs": [],
   "source": []
  }
 ],
 "metadata": {
  "kernelspec": {
   "display_name": "Python 3 (ipykernel)",
   "language": "python",
   "name": "python3"
  },
  "language_info": {
   "codemirror_mode": {
    "name": "ipython",
    "version": 3
   },
   "file_extension": ".py",
   "mimetype": "text/x-python",
   "name": "python",
   "nbconvert_exporter": "python",
   "pygments_lexer": "ipython3",
   "version": "3.9.13"
  }
 },
 "nbformat": 4,
 "nbformat_minor": 5
}
