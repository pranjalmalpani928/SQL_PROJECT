{
 "cells": [
  {
   "cell_type": "code",
   "execution_count": 16,
   "id": "af820f22",
   "metadata": {},
   "outputs": [
    {
     "name": "stdout",
     "output_type": "stream",
     "text": [
      "['# SQL_PROJECT\\n', '\\\\\\\\\\\\\\n', 'conda activate condaVenv\\\\\\n', '\\\\\\\\\\\\\\n', '\\n', 'To setup CI - CD pipeline  we need \\n', '1. HEROKU_EMAIL\\n', '2. HEROKU_API_KEY\\n', '3. HEROKU_APP_NAME']\n"
     ]
    }
   ],
   "source": [
    "with open('./readme.md','r') as file:\n",
    "    print(file.readlines())"
   ]
  },
  {
   "cell_type": "code",
   "execution_count": 14,
   "id": "ec25f4b6",
   "metadata": {},
   "outputs": [],
   "source": [
    "with open('./requirements.txt','w') as file:\n",
    "    file.write('numpy')"
   ]
  },
  {
   "cell_type": "code",
   "execution_count": null,
   "id": "35a8764c",
   "metadata": {},
   "outputs": [],
   "source": []
  }
 ],
 "metadata": {
  "kernelspec": {
   "display_name": "Python 3 (ipykernel)",
   "language": "python",
   "name": "python3"
  },
  "language_info": {
   "codemirror_mode": {
    "name": "ipython",
    "version": 3
   },
   "file_extension": ".py",
   "mimetype": "text/x-python",
   "name": "python",
   "nbconvert_exporter": "python",
   "pygments_lexer": "ipython3",
   "version": "3.9.13"
  }
 },
 "nbformat": 4,
 "nbformat_minor": 5
}
