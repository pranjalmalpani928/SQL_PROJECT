{
 "cells": [
  {
   "cell_type": "code",
   "execution_count": 16,
   "id": "af820f22",
   "metadata": {},
   "outputs": [
    {
     "name": "stdout",
     "output_type": "stream",
     "text": [
      "['# SQL_PROJECT\\n', '\\\\\\\\\\\\\\n', 'conda activate condaVenv\\\\\\n', '\\\\\\\\\\\\\\n', '\\n', 'To setup CI - CD pipeline  we need \\n', '1. HEROKU_EMAIL\\n', '2. HEROKU_API_KEY\\n', '3. HEROKU_APP_NAME']\n"
     ]
    }
   ],
   "source": []
  },
  {
   "cell_type": "code",
   "execution_count": 30,
   "id": "ec25f4b6",
   "metadata": {},
   "outputs": [],
   "source": [
    "import sys\n",
    "\n",
    "class CustomException(Exception):\n",
    "    def __init__(self, error_message:Exception, error_details:sys):\n",
    "        super().__init__(error_message)\n",
    "        self.error_message=CustomException.customErrorMessage(error_message,error_details)\n",
    "\n",
    "\n",
    "#  static method are methods which can be called without calling the object\n",
    "    @staticmethod \n",
    "    def customErrorMessage(error_message:Exception,error_details:sys)->str:\n",
    "\n",
    "        # exception file path, line number\n",
    "        _,exc_obj,exc_tb=error_details.exc_info()\n",
    "        line_number=exc_tb.tb_frame.f_lineno\n",
    "        file_name=exc_tb.tb_frame.f_code.co_filename\n",
    "        error_message= f'Error occured in script [{file_name}], in the line number [{line_number}] with\\\n",
    "              the error message [{error_message}]'\n",
    "        return error_message\n",
    "    \n",
    "    def __str__(self):\n",
    "        return self.error_message\n",
    "    \n",
    "    "
   ]
  },
  {
   "cell_type": "code",
   "execution_count": 31,
   "id": "35a8764c",
   "metadata": {},
   "outputs": [],
   "source": [
    "try:\n",
    "    raise Exception('we are testing custom exception')\n",
    "except Exception as e:\n",
    "    CustomException(e,sys)\n",
    "   "
   ]
  },
  {
   "cell_type": "code",
   "execution_count": 14,
   "id": "1970a60d",
   "metadata": {},
   "outputs": [],
   "source": [
    "class NewClass:\n",
    "    def __init__(self):\n",
    "        print('new class')\n",
    "\n",
    "class Demo:\n",
    "    def __init__(self,obj:NewClass):\n",
    "        self.obj=obj\n",
    "        \n",
    "    def __str__(self):\n",
    "        return 'we are understanding str funtion'\n",
    "\n",
    "    def __repr__(self):\n",
    "        return self.obj"
   ]
  },
  {
   "cell_type": "code",
   "execution_count": 15,
   "id": "e8b17ac8",
   "metadata": {},
   "outputs": [
    {
     "name": "stdout",
     "output_type": "stream",
     "text": [
      "new class\n"
     ]
    },
    {
     "ename": "TypeError",
     "evalue": "__repr__ returned non-string (type NewClass)",
     "output_type": "error",
     "traceback": [
      "\u001b[1;31m---------------------------------------------------------------------------\u001b[0m",
      "\u001b[1;31mTypeError\u001b[0m                                 Traceback (most recent call last)",
      "\u001b[1;32m~\\anaconda3\\lib\\site-packages\\IPython\\core\\formatters.py\u001b[0m in \u001b[0;36m__call__\u001b[1;34m(self, obj)\u001b[0m\n\u001b[0;32m    700\u001b[0m                 \u001b[0mtype_pprinters\u001b[0m\u001b[1;33m=\u001b[0m\u001b[0mself\u001b[0m\u001b[1;33m.\u001b[0m\u001b[0mtype_printers\u001b[0m\u001b[1;33m,\u001b[0m\u001b[1;33m\u001b[0m\u001b[1;33m\u001b[0m\u001b[0m\n\u001b[0;32m    701\u001b[0m                 deferred_pprinters=self.deferred_printers)\n\u001b[1;32m--> 702\u001b[1;33m             \u001b[0mprinter\u001b[0m\u001b[1;33m.\u001b[0m\u001b[0mpretty\u001b[0m\u001b[1;33m(\u001b[0m\u001b[0mobj\u001b[0m\u001b[1;33m)\u001b[0m\u001b[1;33m\u001b[0m\u001b[1;33m\u001b[0m\u001b[0m\n\u001b[0m\u001b[0;32m    703\u001b[0m             \u001b[0mprinter\u001b[0m\u001b[1;33m.\u001b[0m\u001b[0mflush\u001b[0m\u001b[1;33m(\u001b[0m\u001b[1;33m)\u001b[0m\u001b[1;33m\u001b[0m\u001b[1;33m\u001b[0m\u001b[0m\n\u001b[0;32m    704\u001b[0m             \u001b[1;32mreturn\u001b[0m \u001b[0mstream\u001b[0m\u001b[1;33m.\u001b[0m\u001b[0mgetvalue\u001b[0m\u001b[1;33m(\u001b[0m\u001b[1;33m)\u001b[0m\u001b[1;33m\u001b[0m\u001b[1;33m\u001b[0m\u001b[0m\n",
      "\u001b[1;32m~\\anaconda3\\lib\\site-packages\\IPython\\lib\\pretty.py\u001b[0m in \u001b[0;36mpretty\u001b[1;34m(self, obj)\u001b[0m\n\u001b[0;32m    392\u001b[0m                         \u001b[1;32mif\u001b[0m \u001b[0mcls\u001b[0m \u001b[1;32mis\u001b[0m \u001b[1;32mnot\u001b[0m \u001b[0mobject\u001b[0m\u001b[0;31m \u001b[0m\u001b[0;31m\\\u001b[0m\u001b[1;33m\u001b[0m\u001b[1;33m\u001b[0m\u001b[0m\n\u001b[0;32m    393\u001b[0m                                 \u001b[1;32mand\u001b[0m \u001b[0mcallable\u001b[0m\u001b[1;33m(\u001b[0m\u001b[0mcls\u001b[0m\u001b[1;33m.\u001b[0m\u001b[0m__dict__\u001b[0m\u001b[1;33m.\u001b[0m\u001b[0mget\u001b[0m\u001b[1;33m(\u001b[0m\u001b[1;34m'__repr__'\u001b[0m\u001b[1;33m)\u001b[0m\u001b[1;33m)\u001b[0m\u001b[1;33m:\u001b[0m\u001b[1;33m\u001b[0m\u001b[1;33m\u001b[0m\u001b[0m\n\u001b[1;32m--> 394\u001b[1;33m                             \u001b[1;32mreturn\u001b[0m \u001b[0m_repr_pprint\u001b[0m\u001b[1;33m(\u001b[0m\u001b[0mobj\u001b[0m\u001b[1;33m,\u001b[0m \u001b[0mself\u001b[0m\u001b[1;33m,\u001b[0m \u001b[0mcycle\u001b[0m\u001b[1;33m)\u001b[0m\u001b[1;33m\u001b[0m\u001b[1;33m\u001b[0m\u001b[0m\n\u001b[0m\u001b[0;32m    395\u001b[0m \u001b[1;33m\u001b[0m\u001b[0m\n\u001b[0;32m    396\u001b[0m             \u001b[1;32mreturn\u001b[0m \u001b[0m_default_pprint\u001b[0m\u001b[1;33m(\u001b[0m\u001b[0mobj\u001b[0m\u001b[1;33m,\u001b[0m \u001b[0mself\u001b[0m\u001b[1;33m,\u001b[0m \u001b[0mcycle\u001b[0m\u001b[1;33m)\u001b[0m\u001b[1;33m\u001b[0m\u001b[1;33m\u001b[0m\u001b[0m\n",
      "\u001b[1;32m~\\anaconda3\\lib\\site-packages\\IPython\\lib\\pretty.py\u001b[0m in \u001b[0;36m_repr_pprint\u001b[1;34m(obj, p, cycle)\u001b[0m\n\u001b[0;32m    698\u001b[0m     \u001b[1;34m\"\"\"A pprint that just redirects to the normal repr function.\"\"\"\u001b[0m\u001b[1;33m\u001b[0m\u001b[1;33m\u001b[0m\u001b[0m\n\u001b[0;32m    699\u001b[0m     \u001b[1;31m# Find newlines and replace them with p.break_()\u001b[0m\u001b[1;33m\u001b[0m\u001b[1;33m\u001b[0m\u001b[0m\n\u001b[1;32m--> 700\u001b[1;33m     \u001b[0moutput\u001b[0m \u001b[1;33m=\u001b[0m \u001b[0mrepr\u001b[0m\u001b[1;33m(\u001b[0m\u001b[0mobj\u001b[0m\u001b[1;33m)\u001b[0m\u001b[1;33m\u001b[0m\u001b[1;33m\u001b[0m\u001b[0m\n\u001b[0m\u001b[0;32m    701\u001b[0m     \u001b[0mlines\u001b[0m \u001b[1;33m=\u001b[0m \u001b[0moutput\u001b[0m\u001b[1;33m.\u001b[0m\u001b[0msplitlines\u001b[0m\u001b[1;33m(\u001b[0m\u001b[1;33m)\u001b[0m\u001b[1;33m\u001b[0m\u001b[1;33m\u001b[0m\u001b[0m\n\u001b[0;32m    702\u001b[0m     \u001b[1;32mwith\u001b[0m \u001b[0mp\u001b[0m\u001b[1;33m.\u001b[0m\u001b[0mgroup\u001b[0m\u001b[1;33m(\u001b[0m\u001b[1;33m)\u001b[0m\u001b[1;33m:\u001b[0m\u001b[1;33m\u001b[0m\u001b[1;33m\u001b[0m\u001b[0m\n",
      "\u001b[1;31mTypeError\u001b[0m: __repr__ returned non-string (type NewClass)"
     ]
    }
   ],
   "source": [
    "new_class=NewClass()\n",
    "Demo(new_class)"
   ]
  },
  {
   "cell_type": "code",
   "execution_count": 1,
   "id": "9f79d912",
   "metadata": {},
   "outputs": [],
   "source": [
    "import os"
   ]
  },
  {
   "cell_type": "code",
   "execution_count": 2,
   "id": "4c53954f",
   "metadata": {},
   "outputs": [
    {
     "data": {
      "text/plain": [
       "'c:\\\\Users\\\\om\\\\Desktop\\\\SQL_PROJECT\\\\notebook'"
      ]
     },
     "execution_count": 2,
     "metadata": {},
     "output_type": "execute_result"
    }
   ],
   "source": [
    "os.getcwd()"
   ]
  },
  {
   "cell_type": "code",
   "execution_count": 3,
   "id": "05c8b10a",
   "metadata": {},
   "outputs": [],
   "source": [
    "os.chdir('c:\\\\Users\\\\om\\\\Desktop\\\\SQL_PROJECT')"
   ]
  },
  {
   "cell_type": "code",
   "execution_count": 4,
   "id": "7df1c017",
   "metadata": {},
   "outputs": [
    {
     "data": {
      "text/plain": [
       "'c:\\\\Users\\\\om\\\\Desktop\\\\SQL_PROJECT'"
      ]
     },
     "execution_count": 4,
     "metadata": {},
     "output_type": "execute_result"
    }
   ],
   "source": [
    "os.getcwd()"
   ]
  },
  {
   "cell_type": "code",
   "execution_count": 26,
   "id": "af68eb8e",
   "metadata": {},
   "outputs": [
    {
     "name": "stdout",
     "output_type": "stream",
     "text": [
      "Requirement already satisfied: pyYAML in c:\\users\\om\\desktop\\sql_project\\venv\\lib\\site-packages (6.0.1)\n",
      "Collecting bs4\n",
      "  Downloading bs4-0.0.2-py2.py3-none-any.whl.metadata (411 bytes)\n",
      "Collecting beautifulsoup4 (from bs4)\n",
      "  Downloading beautifulsoup4-4.12.3-py3-none-any.whl.metadata (3.8 kB)\n",
      "Collecting soupsieve>1.2 (from beautifulsoup4->bs4)\n",
      "  Downloading soupsieve-2.5-py3-none-any.whl.metadata (4.7 kB)\n",
      "Downloading bs4-0.0.2-py2.py3-none-any.whl (1.2 kB)\n",
      "Downloading beautifulsoup4-4.12.3-py3-none-any.whl (147 kB)\n",
      "   ---------------------------------------- 0.0/147.9 kB ? eta -:--:--\n",
      "   -------- ------------------------------- 30.7/147.9 kB 1.4 MB/s eta 0:00:01\n",
      "   ---------- ---------------------------- 41.0/147.9 kB 393.8 kB/s eta 0:00:01\n",
      "   --------------------- ----------------- 81.9/147.9 kB 573.4 kB/s eta 0:00:01\n",
      "   --------------------- ----------------- 81.9/147.9 kB 573.4 kB/s eta 0:00:01\n",
      "   --------------------- ----------------- 81.9/147.9 kB 573.4 kB/s eta 0:00:01\n",
      "   ------------------------------------ - 143.4/147.9 kB 473.7 kB/s eta 0:00:01\n",
      "   -------------------------------------- 147.9/147.9 kB 463.6 kB/s eta 0:00:00\n",
      "Downloading soupsieve-2.5-py3-none-any.whl (36 kB)\n",
      "Installing collected packages: soupsieve, beautifulsoup4, bs4\n",
      "Successfully installed beautifulsoup4-4.12.3 bs4-0.0.2 soupsieve-2.5\n"
     ]
    }
   ],
   "source": [
    "! pip install pyYAML\n",
    "! pip install bs4"
   ]
  },
  {
   "cell_type": "code",
   "execution_count": 29,
   "id": "bf64727f",
   "metadata": {},
   "outputs": [
    {
     "name": "stdout",
     "output_type": "stream",
     "text": [
      "{'training_pipeline_config': {'pipeline_name': 'housing', 'artifact_dir': 'artifacts'}, 'data_ingetion_config': {'dataset_download_url': None, 'raw_data_dir': 'raw_data', 'tgz_download_url': 'tgz_data', 'ingested_data_dir': 'ingested_data', 'ingetsted_train_dir': 'train', 'ingested_test_dir': 'test'}, 'data_validation_config': {'schema_file_name': 'schema_file'}, 'data_transformation_config': {'add_bedroom_per_room_var': True, 'transformed_data': 'transformed_data', 'transformed_train_data': 'train', 'transformed_test_data': 'test', 'preprocessing_dir': 'preprocessed', 'preprocessed_object_file_name': 'preprocessed.pkl'}, 'model_trainer_config': {'trained_model_dir': 'trained_model', 'model_file_name': 'model.pkl', 'base_accuracy': 0.6}, 'model_evaluation_config': {'model_evaluation_file_name': 'model_evaluation.yaml'}, 'model_pusher_config': {'model_export_dir': 'saved_model'}}\n"
     ]
    }
   ],
   "source": [
    "import yaml\n",
    "from bs4 import BeautifulSoup as bs\n",
    "\n",
    "file_path=os.path.join(os.getcwd(),  'config', 'config.yaml')\n",
    "\n",
    "with open(file_path,'r') as file:\n",
    "    print(yaml.safe_load(file))"
   ]
  },
  {
   "cell_type": "code",
   "execution_count": 4,
   "id": "6981c79d",
   "metadata": {},
   "outputs": [
    {
     "name": "stdout",
     "output_type": "stream",
     "text": [
      "16/04/2024 08:16:28\n"
     ]
    }
   ],
   "source": [
    "from housing.constants.constants import *\n",
    "\n",
    "print(CURRENT_TIMESTAMP)"
   ]
  },
  {
   "cell_type": "code",
   "execution_count": 25,
   "id": "85db64ab",
   "metadata": {},
   "outputs": [
    {
     "ename": "NameError",
     "evalue": "name 'TRAINING_PIPELINE_CONFIG_KEY' is not defined",
     "output_type": "error",
     "traceback": [
      "\u001b[1;31m---------------------------------------------------------------------------\u001b[0m",
      "\u001b[1;31mNameError\u001b[0m                                 Traceback (most recent call last)",
      "Cell \u001b[1;32mIn[25], line 3\u001b[0m\n\u001b[0;32m      1\u001b[0m \u001b[38;5;28;01mfrom\u001b[39;00m \u001b[38;5;21;01mhousing\u001b[39;00m\u001b[38;5;21;01m.\u001b[39;00m\u001b[38;5;21;01mconstants\u001b[39;00m \u001b[38;5;28;01mimport\u001b[39;00m constants\n\u001b[0;32m      2\u001b[0m \u001b[38;5;28;01mfrom\u001b[39;00m \u001b[38;5;21;01mhousing\u001b[39;00m\u001b[38;5;21;01m.\u001b[39;00m\u001b[38;5;21;01mutils\u001b[39;00m \u001b[38;5;28;01mimport\u001b[39;00m read_yaml_file\n\u001b[1;32m----> 3\u001b[0m training_pipeline_config\u001b[38;5;241m=\u001b[39mvariable[\u001b[43mTRAINING_PIPELINE_CONFIG_KEY\u001b[49m]\n\u001b[0;32m      4\u001b[0m artifact_dir\u001b[38;5;241m=\u001b[39mos\u001b[38;5;241m.\u001b[39mpath\u001b[38;5;241m.\u001b[39mjoin(ROOT_DIR,\n\u001b[0;32m      5\u001b[0m                             training_pipeline_config[constants\u001b[38;5;241m.\u001b[39mTRAINING_PIPELINE_NAME_KEY],\n\u001b[0;32m      6\u001b[0m                             training_pipeline_config[constants\u001b[38;5;241m.\u001b[39mTRAINING_PIPELINE_ARTIFACT_DIR_KEY])\n",
      "\u001b[1;31mNameError\u001b[0m: name 'TRAINING_PIPELINE_CONFIG_KEY' is not defined"
     ]
    }
   ],
   "source": [
    "from housing.constants import constants\n",
    "from housing.utils import read_yaml_file\n",
    "training_pipeline_config=variable[TRAINING_PIPELINE_CONFIG_KEY]\n",
    "artifact_dir=os.path.join(ROOT_DIR,\n",
    "                            training_pipeline_config[constants.TRAINING_PIPELINE_NAME_KEY],\n",
    "                            training_pipeline_config[constants.TRAINING_PIPELINE_ARTIFACT_DIR_KEY])"
   ]
  },
  {
   "cell_type": "code",
   "execution_count": 13,
   "id": "967f83d0",
   "metadata": {},
   "outputs": [
    {
     "data": {
      "text/plain": [
       "'c:\\\\Users\\\\om\\\\Desktop\\\\SQL_PROJECT\\\\notebook'"
      ]
     },
     "execution_count": 13,
     "metadata": {},
     "output_type": "execute_result"
    }
   ],
   "source": [
    "os.getcwd()"
   ]
  },
  {
   "cell_type": "code",
   "execution_count": 14,
   "id": "7b80a7e9",
   "metadata": {},
   "outputs": [],
   "source": [
    "os.chdir('c:\\\\Users\\\\om\\\\Desktop\\\\SQL_PROJECT')"
   ]
  },
  {
   "cell_type": "code",
   "execution_count": 16,
   "id": "cb7e100c",
   "metadata": {},
   "outputs": [
    {
     "data": {
      "text/plain": [
       "'c:\\\\Users\\\\om\\\\Desktop\\\\SQL_PROJECT'"
      ]
     },
     "execution_count": 16,
     "metadata": {},
     "output_type": "execute_result"
    }
   ],
   "source": [
    "os.getcwd()"
   ]
  },
  {
   "cell_type": "code",
   "execution_count": 24,
   "id": "63688ea3",
   "metadata": {},
   "outputs": [],
   "source": [
    "from housing.utils import read_yaml_file\n",
    "from housing.constants.constants import ROOT_DIR\n",
    "variable=read_yaml_file(os.path.join(os.getcwd(),'config','config.yaml'))"
   ]
  },
  {
   "cell_type": "code",
   "execution_count": 5,
   "id": "0d703e66",
   "metadata": {},
   "outputs": [],
   "source": [
    "import os\n",
    "os.getcwd()\n",
    "os.chdir('c:\\\\Users\\\\om\\\\Desktop\\\\SQL_PROJECT\\\\')"
   ]
  },
  {
   "cell_type": "code",
   "execution_count": 32,
   "id": "56e57968",
   "metadata": {},
   "outputs": [
    {
     "name": "stdout",
     "output_type": "stream",
     "text": [
      "c:\\Users\\om\\Desktop\\SQL_PROJECT\\config\\config.yaml\n"
     ]
    }
   ],
   "source": [
    "os.getcwd()\n",
    "path=os.path.join(os.getcwd(),'config','config.yaml')\n",
    "print(path)"
   ]
  },
  {
   "cell_type": "code",
   "execution_count": 24,
   "id": "92b6137a",
   "metadata": {},
   "outputs": [],
   "source": [
    "\n",
    "\n"
   ]
  },
  {
   "cell_type": "code",
   "execution_count": 1,
   "id": "472225da",
   "metadata": {},
   "outputs": [],
   "source": [
    "import yaml\n",
    "import sys\n",
    "from housing.exception import CustomException\n",
    "\n",
    "def read_yaml_file(file_path:str)->dict:\n",
    "    try:\n",
    "        with open(file_path,'r') as file:\n",
    "            return yaml.safe_load(file)\n",
    "    except Exception as e:\n",
    "        raise CustomException(e,sys) from e"
   ]
  },
  {
   "cell_type": "code",
   "execution_count": 2,
   "id": "eed41bbe",
   "metadata": {},
   "outputs": [
    {
     "ename": "NameError",
     "evalue": "name 'path' is not defined",
     "output_type": "error",
     "traceback": [
      "\u001b[1;31m---------------------------------------------------------------------------\u001b[0m",
      "\u001b[1;31mNameError\u001b[0m                                 Traceback (most recent call last)",
      "Cell \u001b[1;32mIn[2], line 1\u001b[0m\n\u001b[1;32m----> 1\u001b[0m read_yaml_file(\u001b[43mpath\u001b[49m)\n",
      "\u001b[1;31mNameError\u001b[0m: name 'path' is not defined"
     ]
    }
   ],
   "source": [
    "read_yaml_file(path)"
   ]
  },
  {
   "cell_type": "code",
   "execution_count": 1,
   "id": "73230fda",
   "metadata": {},
   "outputs": [
    {
     "data": {
      "text/plain": [
       "'c:\\\\Users\\\\om\\\\Desktop\\\\SQL_PROJECT\\\\notebook'"
      ]
     },
     "execution_count": 1,
     "metadata": {},
     "output_type": "execute_result"
    }
   ],
   "source": [
    "import os\n",
    "os.getcwd()"
   ]
  },
  {
   "cell_type": "code",
   "execution_count": 2,
   "id": "f5d6714e",
   "metadata": {},
   "outputs": [],
   "source": [
    "os.chdir('c:\\\\Users\\\\om\\\\Desktop\\\\SQL_PROJECT')"
   ]
  },
  {
   "cell_type": "code",
   "execution_count": 14,
   "id": "fa1dd07e",
   "metadata": {},
   "outputs": [
    {
     "name": "stdout",
     "output_type": "stream",
     "text": [
      "TrainingPipelineConfig(artifacts_dir='c:\\\\Users\\\\om\\\\Desktop\\\\SQL_PROJECT\\\\notebook\\\\housing\\\\artifacts')\n"
     ]
    }
   ],
   "source": [
    "# Correct Code\n",
    "\n",
    "from config.configuration import Configuration\n",
    "from housing.entity.config_entity import *\n",
    "from housing.utils import read_yaml_file\n",
    "from housing.constants.constants import *\n",
    "from housing.exception import CustomException\n",
    "from datetime import datetime\n",
    "import sys\n",
    "\n",
    "try:\n",
    "    pipeline_config=Configuration(os.path.join(os.getcwd(),'config','config.yaml'),datetime.now().strftime('%d_%m_%Y_%H_%M_%S'))\n",
    "    print(pipeline_config.get_training_pipeline_config())\n",
    "except Exception as e:\n",
    "    raise CustomException(e,sys) from e"
   ]
  },
  {
   "cell_type": "code",
   "execution_count": 1,
   "id": "363032d2",
   "metadata": {},
   "outputs": [
    {
     "ename": "NameError",
     "evalue": "name 'os' is not defined",
     "output_type": "error",
     "traceback": [
      "\u001b[1;31m---------------------------------------------------------------------------\u001b[0m",
      "\u001b[1;31mNameError\u001b[0m                                 Traceback (most recent call last)",
      "Cell \u001b[1;32mIn[1], line 1\u001b[0m\n\u001b[1;32m----> 1\u001b[0m \u001b[43mos\u001b[49m\u001b[38;5;241m.\u001b[39mpath\u001b[38;5;241m.\u001b[39mjoin(os\u001b[38;5;241m.\u001b[39mgetcwd(),\u001b[38;5;124m'\u001b[39m\u001b[38;5;124mconfig\u001b[39m\u001b[38;5;124m'\u001b[39m,\u001b[38;5;124m'\u001b[39m\u001b[38;5;124mconfig.yaml\u001b[39m\u001b[38;5;124m'\u001b[39m)\n\u001b[0;32m      2\u001b[0m \u001b[38;5;28mprint\u001b[39m()\n",
      "\u001b[1;31mNameError\u001b[0m: name 'os' is not defined"
     ]
    }
   ],
   "source": [
    "os.path.join(os.getcwd(),'config','config.yaml')\n",
    "print()"
   ]
  },
  {
   "cell_type": "code",
   "execution_count": 1,
   "id": "dbf12b0c",
   "metadata": {},
   "outputs": [
    {
     "data": {
      "text/plain": [
       "'c:\\\\Users\\\\om\\\\Desktop\\\\SQL_PROJECT'"
      ]
     },
     "execution_count": 1,
     "metadata": {},
     "output_type": "execute_result"
    }
   ],
   "source": [
    "import os\n",
    "os.getcwd()\n",
    "os.chdir('c:\\\\Users\\\\om\\\\Desktop\\\\SQL_PROJECT')\n",
    "os.getcwd()"
   ]
  },
  {
   "cell_type": "code",
   "execution_count": 2,
   "id": "abc63e0a",
   "metadata": {},
   "outputs": [],
   "source": []
  },
  {
   "cell_type": "code",
   "execution_count": 3,
   "id": "3b828828",
   "metadata": {},
   "outputs": [
    {
     "data": {
      "text/plain": [
       "'c:\\\\Users\\\\om\\\\Desktop\\\\SQL_PROJECT'"
      ]
     },
     "execution_count": 3,
     "metadata": {},
     "output_type": "execute_result"
    }
   ],
   "source": []
  },
  {
   "cell_type": "code",
   "execution_count": 18,
   "id": "24e1debf",
   "metadata": {},
   "outputs": [],
   "source": [
    "# data validation configuration code written by me\n",
    "from housing.entity.config_entity import DataValidationConfig,TrainingPipelineConfig\n",
    "from housing.exception import CustomException\n",
    "from housing.constants.constants import *\n",
    "from housing.utils import read_yaml_file\n",
    "import os, sys\n",
    "config_info=read_yaml_file(os.path.join(os.getcwd(),'config','config.yaml'))\n",
    "def get_data_validation_config(config_info:dict)->DataValidationConfig:\n",
    "    try:\n",
    "        config_dictonary=config_info['data_validation_config']\n",
    "        print(config_dictonary)\n",
    "        schema_file=os.path.join(os.getcwd(),'housing','constants',config_dictonary['schema_file_name'])\n",
    "        data_validation_config=DataValidationConfig(schema_file_path=schema_file)\n",
    "        return data_validation_config\n",
    "    except Exception as e:\n",
    "        raise CustomException(e,sys) from e\n",
    "\n",
    "\n",
    "def get_training_pipeline_config(config_info:dict)->TrainingPipelineConfig:\n",
    "        try:\n",
    "            training_pipeline_config=config_info[TRAINING_PIPELINE_CONFIG_KEY]\n",
    "            artifact_dir=os.path.join(ROOT_DIR,\n",
    "                                      training_pipeline_config[TRAINING_PIPELINE_NAME_KEY],\n",
    "                                      training_pipeline_config[TRAINING_PIPELINE_ARTIFACT_DIR_KEY])\n",
    "            training_pipeline_config=TrainingPipelineConfig(artifact_dir)\n",
    "            return training_pipeline_config\n",
    "        except Exception as e:\n",
    "            raise CustomException(e,sys) from e"
   ]
  },
  {
   "cell_type": "code",
   "execution_count": 19,
   "id": "69fc2c9c",
   "metadata": {},
   "outputs": [
    {
     "name": "stdout",
     "output_type": "stream",
     "text": [
      "{'schema_file_name': 'schema_file'}\n",
      "DataValidationConfig(schema_file_path='c:\\\\Users\\\\om\\\\Desktop\\\\SQL_PROJECT\\\\housing\\\\constants\\\\schema_file')\n",
      "\n"
     ]
    }
   ],
   "source": [
    "print(get_data_validation_config(config_info))\n",
    "print()"
   ]
  },
  {
   "cell_type": "code",
   "execution_count": 20,
   "id": "c52fe67e",
   "metadata": {},
   "outputs": [
    {
     "data": {
      "text/plain": [
       "{'training_pipeline_config': {'pipeline_name': 'housing',\n",
       "  'artifact_dir': 'artifacts'},\n",
       " 'data_ingetion_config': {'dataset_download_url': 'None',\n",
       "  'raw_data_dir': 'raw_data',\n",
       "  'tgz_download_url': 'tgz_data',\n",
       "  'ingested_data_dir': 'ingested_data',\n",
       "  'ingested_train_dir': 'train',\n",
       "  'ingested_test_dir': 'test'},\n",
       " 'data_validation_config': {'schema_file_name': 'schema_file'},\n",
       " 'data_transformation_config': {'add_bedroom_per_room_var': True,\n",
       "  'transformed_data': 'transformed_data',\n",
       "  'transformed_train_data': 'train',\n",
       "  'transformed_test_data': 'test',\n",
       "  'preprocessing_dir': 'preprocessed',\n",
       "  'preprocessed_object_file_name': 'preprocessed.pkl'},\n",
       " 'model_trainer_config': {'trained_model_dir': 'trained_model',\n",
       "  'model_file_name': 'model.pkl',\n",
       "  'base_accuracy': 0.6},\n",
       " 'model_evaluation_config': {'model_evaluation_file_name': 'model_evaluation.yaml'},\n",
       " 'model_pusher_config': {'model_export_dir': 'saved_model'}}"
      ]
     },
     "execution_count": 20,
     "metadata": {},
     "output_type": "execute_result"
    }
   ],
   "source": [
    "config_info"
   ]
  },
  {
   "cell_type": "code",
   "execution_count": null,
   "id": "f890f119",
   "metadata": {},
   "outputs": [],
   "source": []
  },
  {
   "cell_type": "code",
   "execution_count": 9,
   "id": "12d47165",
   "metadata": {},
   "outputs": [],
   "source": [
    "from housing.entity.config_entity import DataIngetionConfig\n",
    "from housing.exception import CustomException\n",
    "\n",
    "def get_data_ingetion_config(config_info:dict)->DataIngetionConfig:\n",
    "    try:\n",
    "        data_ingetion_config_dict=config_info['data_ingetion_config']\n",
    "        data_ingetion_dir=os.path.join(get_training_pipeline_config(config_info).artifacts_dir,'data_ingetion')\n",
    "        raw_data_dir=os.path.join(data_ingetion_dir,data_ingetion_config_dict['raw_data_dir'])\n",
    "        tgz_data_dir=os.path.join(data_ingetion_dir,data_ingetion_config_dict['tgz_download_url'])\n",
    "        ingested_data_dir=os.path.join(data_ingetion_dir,data_ingetion_config_dict['ingested_data_dir'])\n",
    "        ingested_train_dir=os.path.join(ingested_data_dir,data_ingetion_config_dict['ingested_train_dir'])\n",
    "        ingested_test_dir=os.path.join(ingested_data_dir,data_ingetion_config_dict['ingested_test_dir'])\n",
    "        \n",
    "        # print(data_ingetion_config_dict)\n",
    "        # print(data_ingetion_dir)\n",
    "        # print(raw_data_dir)\n",
    "        # print(tgz_data_dir)\n",
    "        # print(ingested_data_dir)\n",
    "        # print(ingested_train_dir)\n",
    "        # print(ingested_test_dir)\n",
    "        return DataIngetionConfig(dataset_url=data_ingetion_config_dict['dataset_download_url'],\n",
    "                                  tgz_download_url=tgz_data_dir,\n",
    "                                  ingested_train_dir=ingested_train_dir,\n",
    "                                  ingested_test_dir=ingested_test_dir)\n",
    "    except Exception as e:\n",
    "        raise CustomException(e,sys) from e\n",
    "    "
   ]
  },
  {
   "cell_type": "code",
   "execution_count": 22,
   "id": "c34e4093",
   "metadata": {},
   "outputs": [
    {
     "name": "stdout",
     "output_type": "stream",
     "text": [
      "{'dataset_download_url': 'None', 'raw_data_dir': 'raw_data', 'tgz_download_url': 'tgz_data', 'ingested_data_dir': 'ingested_data', 'ingested_train_dir': 'train', 'ingested_test_dir': 'test'}\n",
      "c:\\Users\\om\\Desktop\\SQL_PROJECT\\notebook\\housing\\artifacts\\data_ingetion\n",
      "c:\\Users\\om\\Desktop\\SQL_PROJECT\\notebook\\housing\\artifacts\\data_ingetion\\raw_data\n",
      "c:\\Users\\om\\Desktop\\SQL_PROJECT\\notebook\\housing\\artifacts\\data_ingetion\\tgz_data\n",
      "c:\\Users\\om\\Desktop\\SQL_PROJECT\\notebook\\housing\\artifacts\\data_ingetion\\ingested_data\n",
      "c:\\Users\\om\\Desktop\\SQL_PROJECT\\notebook\\housing\\artifacts\\data_ingetion\\ingested_data\\train\n",
      "c:\\Users\\om\\Desktop\\SQL_PROJECT\\notebook\\housing\\artifacts\\data_ingetion\\ingested_data\\test\n",
      "DataIngetionConfig(dataset_url='None', tgz_download_url='c:\\\\Users\\\\om\\\\Desktop\\\\SQL_PROJECT\\\\notebook\\\\housing\\\\artifacts\\\\data_ingetion\\\\tgz_data', ingested_train_dir='c:\\\\Users\\\\om\\\\Desktop\\\\SQL_PROJECT\\\\notebook\\\\housing\\\\artifacts\\\\data_ingetion\\\\ingested_data\\\\train', ingested_test_dir='c:\\\\Users\\\\om\\\\Desktop\\\\SQL_PROJECT\\\\notebook\\\\housing\\\\artifacts\\\\data_ingetion\\\\ingested_data\\\\test')\n"
     ]
    }
   ],
   "source": [
    "from config.configuration import Configuration\n",
    "try:\n",
    "    pipeline_config=Configuration(os.path.join(os.getcwd(),'config','config.yaml'),datetime.now().strftime('%d_%m_%Y_%H_%M_%S'))\n",
    "    print(pipeline_config.get_data_ingetion_config())\n",
    "except Exception as e:\n",
    "    raise CustomException(e,sys) from e"
   ]
  },
  {
   "cell_type": "code",
   "execution_count": null,
   "id": "7f10df28",
   "metadata": {},
   "outputs": [],
   "source": []
  },
  {
   "cell_type": "code",
   "execution_count": 23,
   "id": "77ada6f3",
   "metadata": {},
   "outputs": [
    {
     "data": {
      "text/plain": [
       "'train'"
      ]
     },
     "execution_count": 23,
     "metadata": {},
     "output_type": "execute_result"
    }
   ],
   "source": [
    "config_info['data_ingetion_config']['ingested_train_dir']"
   ]
  },
  {
   "cell_type": "code",
   "execution_count": 29,
   "id": "ca7dd55a",
   "metadata": {},
   "outputs": [],
   "source": [
    "from config.configuration import Configuration\n",
    "from housing.entity.config_entity import DataIngetionConfig\n",
    "from housing.entity.artifact_entity import DataIngetionArtifact\n",
    "from housing.exception import CustomException\n",
    "from six.moves import urllib\n",
    "\n",
    "class DataIngetion:\n",
    "    def __init__(self,data_ingetion_config:DataIngetionConfig):\n",
    "        try:\n",
    "            self.data_ingetion_config=data_ingetion_config\n",
    "        except Exception as e:\n",
    "            raise CustomException(e,sys) from e\n",
    "        \n",
    "    def download_dataset(self):\n",
    "        try:\n",
    "            dataset_url=self.data_ingetion_config.dataset_url\n",
    "\n",
    "            with urllib.open(dataset_url) as file:\n",
    "                content=file.read()\n",
    "\n",
    "            tgz_download_file_path=self.data_ingetion_config.tgz_download_url\n",
    "\n",
    "            if not os.file.exists(tgz_download_file_path):\n",
    "                os.makedirs(tgz_download_file_path)\n",
    "            \n",
    "\n",
    "            \n",
    "        except Exception as e:\n",
    "            raise CustomException(e,sys) from e"
   ]
  },
  {
   "cell_type": "code",
   "execution_count": 33,
   "id": "bcd3aeca",
   "metadata": {},
   "outputs": [
    {
     "ename": "CustomException",
     "evalue": "Error occured in script [C:\\Users\\om\\AppData\\Local\\Temp\\ipykernel_2332\\277773256.py], in the line number [6] with              the error message ['type' object is not subscriptable]",
     "output_type": "error",
     "traceback": [
      "\u001b[1;31m---------------------------------------------------------------------------\u001b[0m",
      "\u001b[1;31mTypeError\u001b[0m                                 Traceback (most recent call last)",
      "Cell \u001b[1;32mIn[21], line 6\u001b[0m, in \u001b[0;36mget_data_ingetion_config\u001b[1;34m(config_info)\u001b[0m\n\u001b[0;32m      5\u001b[0m \u001b[38;5;28;01mtry\u001b[39;00m:\n\u001b[1;32m----> 6\u001b[0m     data_ingetion_config_dict\u001b[38;5;241m=\u001b[39m\u001b[43mconfig_info\u001b[49m\u001b[43m[\u001b[49m\u001b[38;5;124;43m'\u001b[39;49m\u001b[38;5;124;43mdata_ingetion_config\u001b[39;49m\u001b[38;5;124;43m'\u001b[39;49m\u001b[43m]\u001b[49m\n\u001b[0;32m      7\u001b[0m     data_ingetion_dir\u001b[38;5;241m=\u001b[39mos\u001b[38;5;241m.\u001b[39mpath\u001b[38;5;241m.\u001b[39mjoin(get_training_pipeline_config(config_info)\u001b[38;5;241m.\u001b[39martifacts_dir,\u001b[38;5;124m'\u001b[39m\u001b[38;5;124mdata_ingetion\u001b[39m\u001b[38;5;124m'\u001b[39m)\n",
      "\u001b[1;31mTypeError\u001b[0m: 'type' object is not subscriptable",
      "\nThe above exception was the direct cause of the following exception:\n",
      "\u001b[1;31mCustomException\u001b[0m                           Traceback (most recent call last)",
      "Cell \u001b[1;32mIn[33], line 1\u001b[0m\n\u001b[1;32m----> 1\u001b[0m data_ingetion_config\u001b[38;5;241m=\u001b[39m\u001b[43mget_data_ingetion_config\u001b[49m\u001b[43m(\u001b[49m\u001b[43mConfiguration\u001b[49m\u001b[43m)\u001b[49m\n\u001b[0;32m      2\u001b[0m data_ingetion\u001b[38;5;241m=\u001b[39mDataIngetion(data_ingetion_config)\n",
      "Cell \u001b[1;32mIn[21], line 26\u001b[0m, in \u001b[0;36mget_data_ingetion_config\u001b[1;34m(config_info)\u001b[0m\n\u001b[0;32m     21\u001b[0m     \u001b[38;5;28;01mreturn\u001b[39;00m DataIngetionConfig(dataset_url\u001b[38;5;241m=\u001b[39mdata_ingetion_config_dict[\u001b[38;5;124m'\u001b[39m\u001b[38;5;124mdataset_download_url\u001b[39m\u001b[38;5;124m'\u001b[39m],\n\u001b[0;32m     22\u001b[0m                               tgz_download_url\u001b[38;5;241m=\u001b[39mtgz_data_dir,\n\u001b[0;32m     23\u001b[0m                               ingested_train_dir\u001b[38;5;241m=\u001b[39mingested_train_dir,\n\u001b[0;32m     24\u001b[0m                               ingested_test_dir\u001b[38;5;241m=\u001b[39mingested_test_dir)\n\u001b[0;32m     25\u001b[0m \u001b[38;5;28;01mexcept\u001b[39;00m \u001b[38;5;167;01mException\u001b[39;00m \u001b[38;5;28;01mas\u001b[39;00m e:\n\u001b[1;32m---> 26\u001b[0m     \u001b[38;5;28;01mraise\u001b[39;00m CustomException(e,sys) \u001b[38;5;28;01mfrom\u001b[39;00m \u001b[38;5;21;01me\u001b[39;00m\n",
      "\u001b[1;31mCustomException\u001b[0m: Error occured in script [C:\\Users\\om\\AppData\\Local\\Temp\\ipykernel_2332\\277773256.py], in the line number [6] with              the error message ['type' object is not subscriptable]"
     ]
    }
   ],
   "source": []
  },
  {
   "cell_type": "code",
   "execution_count": 9,
   "id": "e0ceabf6",
   "metadata": {},
   "outputs": [
    {
     "name": "stdout",
     "output_type": "stream",
     "text": [
      "c:\\Users\\om\\Desktop\\SQL_PROJECT\\housing\\tarfile_download\n"
     ]
    }
   ],
   "source": [
    "import tarfile\n",
    "import urllib\n",
    "import urllib.request\n",
    "from housing.utils import read_yaml_file\n",
    "import config\n",
    "import os\n",
    "import requests\n",
    "from housing.exception import CustomException\n",
    "try:\n",
    "    config_dictionary=read_yaml_file(os.path.join(os.getcwd(),'config','config.yaml'))\n",
    "    tgz_file_url=config_dictionary['data_ingetion_config']['dataset_download_url']\n",
    "    \n",
    "    tgz_file_dir=os.path.join(os.getcwd(),'housing','tarfile_download')\n",
    "    print(tgz_file_dir)\n",
    "    os.makedirs(tgz_file_dir)\n",
    "    with open(os.path.join(tgz_file_dir,'tar.tgz'),'wb') as file:\n",
    "        file.write(requests.get(tgz_file_url).content)\n",
    "\n",
    "    with tarfile.open(os.path.join(tgz_file_dir,'tar.tgz'),'r') as file:\n",
    "        file.extractall(tgz_file_dir)\n",
    "except Exception as e:\n",
    "    raise CustomException(e,sys) from e\n"
   ]
  },
  {
   "cell_type": "code",
   "execution_count": 1,
   "id": "329f69db",
   "metadata": {},
   "outputs": [
    {
     "data": {
      "text/plain": [
       "'c:\\\\Users\\\\om\\\\Desktop\\\\SQL_PROJECT'"
      ]
     },
     "execution_count": 1,
     "metadata": {},
     "output_type": "execute_result"
    }
   ],
   "source": [
    "import os\n",
    "os.getcwd()\n",
    "os.chdir('c:\\\\Users\\\\om\\\\Desktop\\\\SQL_PROJECT')\n",
    "os.getcwd()"
   ]
  },
  {
   "cell_type": "code",
   "execution_count": 2,
   "id": "b5478382",
   "metadata": {},
   "outputs": [
    {
     "name": "stdout",
     "output_type": "stream",
     "text": [
      "bring the tarfile back\n",
      "where is the tar file\n",
      "where is the test and train folder\n",
      "here are the test and train folders\n",
      "tar_file_downloaded successfully\n"
     ]
    }
   ],
   "source": [
    "from housing.components.data_ingetion import DataIngetion\n",
    "from config.configuration import Configuration\n",
    "from housing.utils import read_yaml_file\n",
    "from datetime import datetime\n",
    "from housing.exception import CustomException\n",
    "import sys\n",
    "\n",
    "try:\n",
    "    config_=Configuration(os.path.join(os.getcwd(),'config','config.yaml'),datetime.now().strftime(\"%Y-%m-%d %H:%M\"))\n",
    "    print('bring the tarfile back')\n",
    "    data_ingetion=DataIngetion(config_.get_data_ingetion_config())\n",
    "    print('where is the tar file')\n",
    "    data_ingetion.initiate_data_ingetion()\n",
    "    print('tar_file_downloaded successfully')\n",
    "except Exception as e:\n",
    "    raise CustomException(e,sys) from e"
   ]
  },
  {
   "cell_type": "code",
   "execution_count": 65,
   "id": "13ce1fe7",
   "metadata": {},
   "outputs": [],
   "source": [
    "from housing.entity.config_entity import DataIngetionConfig\n",
    "from housing.entity.artifact_entity import DataIngetionArtifact\n",
    "from housing.exception import CustomException\n",
    "from config.configuration import Configuration\n",
    "import sys\n",
    "import tarfile\n",
    "import requests\n",
    "import os\n",
    "\n",
    "\n",
    "class DataIngetion:\n",
    "    def __init__(self,data_ingetion_config:DataIngetionConfig):\n",
    "        try:\n",
    "            self.data_ingetion_config=Configuration.get_data_ingetion_config()\n",
    "        except Exception as e:\n",
    "            raise CustomException(e,sys) from e\n",
    "    \n",
    "    def download_tgz_file(self)->str:\n",
    "        try:\n",
    "            dataset_url=self.data_ingetion_config.dataset_url\n",
    "            \n",
    "        except Exception as e:\n",
    "            raise CustomException(e,sys) from e"
   ]
  },
  {
   "cell_type": "code",
   "execution_count": 3,
   "id": "b5ff6524",
   "metadata": {},
   "outputs": [
    {
     "name": "stdout",
     "output_type": "stream",
     "text": [
      "housing.tgz\n"
     ]
    }
   ],
   "source": [
    "file_url=\"https://raw.githubusercontent.com/ageron/handson-ml/master/datasets/housing/housing.tgz\"\n",
    "file_name=file_url.split('/')[-1]\n",
    "print(file_name)"
   ]
  },
  {
   "cell_type": "code",
   "execution_count": 5,
   "id": "b8b274de",
   "metadata": {},
   "outputs": [],
   "source": [
    "housing_file_path_csv=os.path.join(os.getcwd(), 'housing','artifacts','data_ingetion','raw_data','housing.csv')"
   ]
  },
  {
   "cell_type": "code",
   "execution_count": 6,
   "id": "3a75f9f3",
   "metadata": {},
   "outputs": [],
   "source": [
    "import pandas as pd\n",
    "import numpy as np\n"
   ]
  },
  {
   "cell_type": "code",
   "execution_count": 7,
   "id": "56253d87",
   "metadata": {},
   "outputs": [],
   "source": [
    "housing_dataframe=pd.read_csv(housing_file_path_csv)"
   ]
  },
  {
   "cell_type": "code",
   "execution_count": 8,
   "id": "27fc4593",
   "metadata": {},
   "outputs": [
    {
     "data": {
      "text/html": [
       "<div>\n",
       "<style scoped>\n",
       "    .dataframe tbody tr th:only-of-type {\n",
       "        vertical-align: middle;\n",
       "    }\n",
       "\n",
       "    .dataframe tbody tr th {\n",
       "        vertical-align: top;\n",
       "    }\n",
       "\n",
       "    .dataframe thead th {\n",
       "        text-align: right;\n",
       "    }\n",
       "</style>\n",
       "<table border=\"1\" class=\"dataframe\">\n",
       "  <thead>\n",
       "    <tr style=\"text-align: right;\">\n",
       "      <th></th>\n",
       "      <th>longitude</th>\n",
       "      <th>latitude</th>\n",
       "      <th>housing_median_age</th>\n",
       "      <th>total_rooms</th>\n",
       "      <th>total_bedrooms</th>\n",
       "      <th>population</th>\n",
       "      <th>households</th>\n",
       "      <th>median_income</th>\n",
       "      <th>median_house_value</th>\n",
       "      <th>ocean_proximity</th>\n",
       "    </tr>\n",
       "  </thead>\n",
       "  <tbody>\n",
       "    <tr>\n",
       "      <th>0</th>\n",
       "      <td>-122.23</td>\n",
       "      <td>37.88</td>\n",
       "      <td>41.0</td>\n",
       "      <td>880.0</td>\n",
       "      <td>129.0</td>\n",
       "      <td>322.0</td>\n",
       "      <td>126.0</td>\n",
       "      <td>8.3252</td>\n",
       "      <td>452600.0</td>\n",
       "      <td>NEAR BAY</td>\n",
       "    </tr>\n",
       "    <tr>\n",
       "      <th>1</th>\n",
       "      <td>-122.22</td>\n",
       "      <td>37.86</td>\n",
       "      <td>21.0</td>\n",
       "      <td>7099.0</td>\n",
       "      <td>1106.0</td>\n",
       "      <td>2401.0</td>\n",
       "      <td>1138.0</td>\n",
       "      <td>8.3014</td>\n",
       "      <td>358500.0</td>\n",
       "      <td>NEAR BAY</td>\n",
       "    </tr>\n",
       "    <tr>\n",
       "      <th>2</th>\n",
       "      <td>-122.24</td>\n",
       "      <td>37.85</td>\n",
       "      <td>52.0</td>\n",
       "      <td>1467.0</td>\n",
       "      <td>190.0</td>\n",
       "      <td>496.0</td>\n",
       "      <td>177.0</td>\n",
       "      <td>7.2574</td>\n",
       "      <td>352100.0</td>\n",
       "      <td>NEAR BAY</td>\n",
       "    </tr>\n",
       "    <tr>\n",
       "      <th>3</th>\n",
       "      <td>-122.25</td>\n",
       "      <td>37.85</td>\n",
       "      <td>52.0</td>\n",
       "      <td>1274.0</td>\n",
       "      <td>235.0</td>\n",
       "      <td>558.0</td>\n",
       "      <td>219.0</td>\n",
       "      <td>5.6431</td>\n",
       "      <td>341300.0</td>\n",
       "      <td>NEAR BAY</td>\n",
       "    </tr>\n",
       "    <tr>\n",
       "      <th>4</th>\n",
       "      <td>-122.25</td>\n",
       "      <td>37.85</td>\n",
       "      <td>52.0</td>\n",
       "      <td>1627.0</td>\n",
       "      <td>280.0</td>\n",
       "      <td>565.0</td>\n",
       "      <td>259.0</td>\n",
       "      <td>3.8462</td>\n",
       "      <td>342200.0</td>\n",
       "      <td>NEAR BAY</td>\n",
       "    </tr>\n",
       "  </tbody>\n",
       "</table>\n",
       "</div>"
      ],
      "text/plain": [
       "   longitude  latitude  housing_median_age  total_rooms  total_bedrooms  \\\n",
       "0    -122.23     37.88                41.0        880.0           129.0   \n",
       "1    -122.22     37.86                21.0       7099.0          1106.0   \n",
       "2    -122.24     37.85                52.0       1467.0           190.0   \n",
       "3    -122.25     37.85                52.0       1274.0           235.0   \n",
       "4    -122.25     37.85                52.0       1627.0           280.0   \n",
       "\n",
       "   population  households  median_income  median_house_value ocean_proximity  \n",
       "0       322.0       126.0         8.3252            452600.0        NEAR BAY  \n",
       "1      2401.0      1138.0         8.3014            358500.0        NEAR BAY  \n",
       "2       496.0       177.0         7.2574            352100.0        NEAR BAY  \n",
       "3       558.0       219.0         5.6431            341300.0        NEAR BAY  \n",
       "4       565.0       259.0         3.8462            342200.0        NEAR BAY  "
      ]
     },
     "execution_count": 8,
     "metadata": {},
     "output_type": "execute_result"
    }
   ],
   "source": [
    "housing_dataframe.head()"
   ]
  },
  {
   "cell_type": "code",
   "execution_count": 9,
   "id": "f3a6b0f8",
   "metadata": {},
   "outputs": [],
   "source": [
    "def categorize_media_income(x):\n",
    "    \n",
    "    if x>0  and x<=3:\n",
    "        return 1\n",
    "    elif x>3 and x<=5:\n",
    "        return 2\n",
    "    elif x>5 and x<=7:\n",
    "        return 3\n",
    "    else:\n",
    "        return 4\n",
    "    \n",
    "housing_dataframe['cat_median_income']=housing_dataframe['median_income'].map(lambda x:categorize_media_income(x))"
   ]
  },
  {
   "cell_type": "code",
   "execution_count": 10,
   "id": "3714d8f8",
   "metadata": {},
   "outputs": [
    {
     "data": {
      "text/html": [
       "<div>\n",
       "<style scoped>\n",
       "    .dataframe tbody tr th:only-of-type {\n",
       "        vertical-align: middle;\n",
       "    }\n",
       "\n",
       "    .dataframe tbody tr th {\n",
       "        vertical-align: top;\n",
       "    }\n",
       "\n",
       "    .dataframe thead th {\n",
       "        text-align: right;\n",
       "    }\n",
       "</style>\n",
       "<table border=\"1\" class=\"dataframe\">\n",
       "  <thead>\n",
       "    <tr style=\"text-align: right;\">\n",
       "      <th></th>\n",
       "      <th>longitude</th>\n",
       "      <th>latitude</th>\n",
       "      <th>housing_median_age</th>\n",
       "      <th>total_rooms</th>\n",
       "      <th>total_bedrooms</th>\n",
       "      <th>population</th>\n",
       "      <th>households</th>\n",
       "      <th>median_income</th>\n",
       "      <th>median_house_value</th>\n",
       "      <th>ocean_proximity</th>\n",
       "      <th>cat_median_income</th>\n",
       "    </tr>\n",
       "  </thead>\n",
       "  <tbody>\n",
       "    <tr>\n",
       "      <th>0</th>\n",
       "      <td>-122.23</td>\n",
       "      <td>37.88</td>\n",
       "      <td>41.0</td>\n",
       "      <td>880.0</td>\n",
       "      <td>129.0</td>\n",
       "      <td>322.0</td>\n",
       "      <td>126.0</td>\n",
       "      <td>8.3252</td>\n",
       "      <td>452600.0</td>\n",
       "      <td>NEAR BAY</td>\n",
       "      <td>4</td>\n",
       "    </tr>\n",
       "    <tr>\n",
       "      <th>1</th>\n",
       "      <td>-122.22</td>\n",
       "      <td>37.86</td>\n",
       "      <td>21.0</td>\n",
       "      <td>7099.0</td>\n",
       "      <td>1106.0</td>\n",
       "      <td>2401.0</td>\n",
       "      <td>1138.0</td>\n",
       "      <td>8.3014</td>\n",
       "      <td>358500.0</td>\n",
       "      <td>NEAR BAY</td>\n",
       "      <td>4</td>\n",
       "    </tr>\n",
       "    <tr>\n",
       "      <th>2</th>\n",
       "      <td>-122.24</td>\n",
       "      <td>37.85</td>\n",
       "      <td>52.0</td>\n",
       "      <td>1467.0</td>\n",
       "      <td>190.0</td>\n",
       "      <td>496.0</td>\n",
       "      <td>177.0</td>\n",
       "      <td>7.2574</td>\n",
       "      <td>352100.0</td>\n",
       "      <td>NEAR BAY</td>\n",
       "      <td>4</td>\n",
       "    </tr>\n",
       "    <tr>\n",
       "      <th>3</th>\n",
       "      <td>-122.25</td>\n",
       "      <td>37.85</td>\n",
       "      <td>52.0</td>\n",
       "      <td>1274.0</td>\n",
       "      <td>235.0</td>\n",
       "      <td>558.0</td>\n",
       "      <td>219.0</td>\n",
       "      <td>5.6431</td>\n",
       "      <td>341300.0</td>\n",
       "      <td>NEAR BAY</td>\n",
       "      <td>3</td>\n",
       "    </tr>\n",
       "    <tr>\n",
       "      <th>4</th>\n",
       "      <td>-122.25</td>\n",
       "      <td>37.85</td>\n",
       "      <td>52.0</td>\n",
       "      <td>1627.0</td>\n",
       "      <td>280.0</td>\n",
       "      <td>565.0</td>\n",
       "      <td>259.0</td>\n",
       "      <td>3.8462</td>\n",
       "      <td>342200.0</td>\n",
       "      <td>NEAR BAY</td>\n",
       "      <td>2</td>\n",
       "    </tr>\n",
       "    <tr>\n",
       "      <th>...</th>\n",
       "      <td>...</td>\n",
       "      <td>...</td>\n",
       "      <td>...</td>\n",
       "      <td>...</td>\n",
       "      <td>...</td>\n",
       "      <td>...</td>\n",
       "      <td>...</td>\n",
       "      <td>...</td>\n",
       "      <td>...</td>\n",
       "      <td>...</td>\n",
       "      <td>...</td>\n",
       "    </tr>\n",
       "    <tr>\n",
       "      <th>20635</th>\n",
       "      <td>-121.09</td>\n",
       "      <td>39.48</td>\n",
       "      <td>25.0</td>\n",
       "      <td>1665.0</td>\n",
       "      <td>374.0</td>\n",
       "      <td>845.0</td>\n",
       "      <td>330.0</td>\n",
       "      <td>1.5603</td>\n",
       "      <td>78100.0</td>\n",
       "      <td>INLAND</td>\n",
       "      <td>1</td>\n",
       "    </tr>\n",
       "    <tr>\n",
       "      <th>20636</th>\n",
       "      <td>-121.21</td>\n",
       "      <td>39.49</td>\n",
       "      <td>18.0</td>\n",
       "      <td>697.0</td>\n",
       "      <td>150.0</td>\n",
       "      <td>356.0</td>\n",
       "      <td>114.0</td>\n",
       "      <td>2.5568</td>\n",
       "      <td>77100.0</td>\n",
       "      <td>INLAND</td>\n",
       "      <td>1</td>\n",
       "    </tr>\n",
       "    <tr>\n",
       "      <th>20637</th>\n",
       "      <td>-121.22</td>\n",
       "      <td>39.43</td>\n",
       "      <td>17.0</td>\n",
       "      <td>2254.0</td>\n",
       "      <td>485.0</td>\n",
       "      <td>1007.0</td>\n",
       "      <td>433.0</td>\n",
       "      <td>1.7000</td>\n",
       "      <td>92300.0</td>\n",
       "      <td>INLAND</td>\n",
       "      <td>1</td>\n",
       "    </tr>\n",
       "    <tr>\n",
       "      <th>20638</th>\n",
       "      <td>-121.32</td>\n",
       "      <td>39.43</td>\n",
       "      <td>18.0</td>\n",
       "      <td>1860.0</td>\n",
       "      <td>409.0</td>\n",
       "      <td>741.0</td>\n",
       "      <td>349.0</td>\n",
       "      <td>1.8672</td>\n",
       "      <td>84700.0</td>\n",
       "      <td>INLAND</td>\n",
       "      <td>1</td>\n",
       "    </tr>\n",
       "    <tr>\n",
       "      <th>20639</th>\n",
       "      <td>-121.24</td>\n",
       "      <td>39.37</td>\n",
       "      <td>16.0</td>\n",
       "      <td>2785.0</td>\n",
       "      <td>616.0</td>\n",
       "      <td>1387.0</td>\n",
       "      <td>530.0</td>\n",
       "      <td>2.3886</td>\n",
       "      <td>89400.0</td>\n",
       "      <td>INLAND</td>\n",
       "      <td>1</td>\n",
       "    </tr>\n",
       "  </tbody>\n",
       "</table>\n",
       "<p>20640 rows × 11 columns</p>\n",
       "</div>"
      ],
      "text/plain": [
       "       longitude  latitude  housing_median_age  total_rooms  total_bedrooms  \\\n",
       "0        -122.23     37.88                41.0        880.0           129.0   \n",
       "1        -122.22     37.86                21.0       7099.0          1106.0   \n",
       "2        -122.24     37.85                52.0       1467.0           190.0   \n",
       "3        -122.25     37.85                52.0       1274.0           235.0   \n",
       "4        -122.25     37.85                52.0       1627.0           280.0   \n",
       "...          ...       ...                 ...          ...             ...   \n",
       "20635    -121.09     39.48                25.0       1665.0           374.0   \n",
       "20636    -121.21     39.49                18.0        697.0           150.0   \n",
       "20637    -121.22     39.43                17.0       2254.0           485.0   \n",
       "20638    -121.32     39.43                18.0       1860.0           409.0   \n",
       "20639    -121.24     39.37                16.0       2785.0           616.0   \n",
       "\n",
       "       population  households  median_income  median_house_value  \\\n",
       "0           322.0       126.0         8.3252            452600.0   \n",
       "1          2401.0      1138.0         8.3014            358500.0   \n",
       "2           496.0       177.0         7.2574            352100.0   \n",
       "3           558.0       219.0         5.6431            341300.0   \n",
       "4           565.0       259.0         3.8462            342200.0   \n",
       "...           ...         ...            ...                 ...   \n",
       "20635       845.0       330.0         1.5603             78100.0   \n",
       "20636       356.0       114.0         2.5568             77100.0   \n",
       "20637      1007.0       433.0         1.7000             92300.0   \n",
       "20638       741.0       349.0         1.8672             84700.0   \n",
       "20639      1387.0       530.0         2.3886             89400.0   \n",
       "\n",
       "      ocean_proximity  cat_median_income  \n",
       "0            NEAR BAY                  4  \n",
       "1            NEAR BAY                  4  \n",
       "2            NEAR BAY                  4  \n",
       "3            NEAR BAY                  3  \n",
       "4            NEAR BAY                  2  \n",
       "...               ...                ...  \n",
       "20635          INLAND                  1  \n",
       "20636          INLAND                  1  \n",
       "20637          INLAND                  1  \n",
       "20638          INLAND                  1  \n",
       "20639          INLAND                  1  \n",
       "\n",
       "[20640 rows x 11 columns]"
      ]
     },
     "execution_count": 10,
     "metadata": {},
     "output_type": "execute_result"
    }
   ],
   "source": [
    "housing_dataframe"
   ]
  },
  {
   "cell_type": "code",
   "execution_count": 11,
   "id": "927b183a",
   "metadata": {},
   "outputs": [
    {
     "data": {
      "image/png": "[encoded data removed]",
      "text/plain": [
       "<Figure size 640x480 with 1 Axes>"
      ]
     },
     "metadata": {},
     "output_type": "display_data"
    }
   ],
   "source": [
    "from matplotlib import pyplot as plt\n",
    "import seaborn as sns\n",
    "import math\n",
    "\n",
    "plt.hist(housing_dataframe['cat_median_income'])\n",
    "plt.show()"
   ]
  },
  {
   "cell_type": "code",
   "execution_count": 12,
   "id": "a051e848",
   "metadata": {},
   "outputs": [],
   "source": [
    "from sklearn.model_selection import StratifiedShuffleSplit\n",
    "\n",
    "split=StratifiedShuffleSplit(n_splits=1,test_size=0.2,random_state=42)"
   ]
  },
  {
   "cell_type": "code",
   "execution_count": 13,
   "id": "d971fd90",
   "metadata": {},
   "outputs": [],
   "source": [
    "split_object=split.split(housing_dataframe,housing_dataframe['cat_median_income'])"
   ]
  },
  {
   "cell_type": "code",
   "execution_count": null,
   "id": "5d2362de",
   "metadata": {},
   "outputs": [],
   "source": []
  },
  {
   "cell_type": "code",
   "execution_count": 14,
   "id": "7577406f",
   "metadata": {},
   "outputs": [
    {
     "name": "stdout",
     "output_type": "stream",
     "text": [
      "TRAIN: 16512 TEST: 4128\n"
     ]
    }
   ],
   "source": [
    "for train_index,test_index in split_object:\n",
    "    print(\"TRAIN:\",len(train_index),\"TEST:\",len(test_index))\n",
    "    X_train=housing_dataframe.loc[train_index]\n",
    "    X_test=housing_dataframe.loc[test_index]\n",
    "    y_train=housing_dataframe['cat_median_income'].loc[train_index]\n",
    "    y_test=housing_dataframe['cat_median_income'].loc[test_index]"
   ]
  },
  {
   "cell_type": "code",
   "execution_count": 15,
   "id": "96dd5eff",
   "metadata": {},
   "outputs": [
    {
     "data": {
      "text/html": [
       "<div>\n",
       "<style scoped>\n",
       "    .dataframe tbody tr th:only-of-type {\n",
       "        vertical-align: middle;\n",
       "    }\n",
       "\n",
       "    .dataframe tbody tr th {\n",
       "        vertical-align: top;\n",
       "    }\n",
       "\n",
       "    .dataframe thead th {\n",
       "        text-align: right;\n",
       "    }\n",
       "</style>\n",
       "<table border=\"1\" class=\"dataframe\">\n",
       "  <thead>\n",
       "    <tr style=\"text-align: right;\">\n",
       "      <th></th>\n",
       "      <th>longitude</th>\n",
       "      <th>latitude</th>\n",
       "      <th>housing_median_age</th>\n",
       "      <th>total_rooms</th>\n",
       "      <th>total_bedrooms</th>\n",
       "      <th>population</th>\n",
       "      <th>households</th>\n",
       "      <th>median_income</th>\n",
       "      <th>median_house_value</th>\n",
       "      <th>ocean_proximity</th>\n",
       "      <th>cat_median_income</th>\n",
       "    </tr>\n",
       "  </thead>\n",
       "  <tbody>\n",
       "    <tr>\n",
       "      <th>15493</th>\n",
       "      <td>-117.20</td>\n",
       "      <td>33.12</td>\n",
       "      <td>18.0</td>\n",
       "      <td>4372.0</td>\n",
       "      <td>736.0</td>\n",
       "      <td>1473.0</td>\n",
       "      <td>675.0</td>\n",
       "      <td>5.1194</td>\n",
       "      <td>247800.0</td>\n",
       "      <td>NEAR OCEAN</td>\n",
       "      <td>3</td>\n",
       "    </tr>\n",
       "    <tr>\n",
       "      <th>2432</th>\n",
       "      <td>-119.53</td>\n",
       "      <td>36.65</td>\n",
       "      <td>43.0</td>\n",
       "      <td>1676.0</td>\n",
       "      <td>320.0</td>\n",
       "      <td>1056.0</td>\n",
       "      <td>276.0</td>\n",
       "      <td>2.5562</td>\n",
       "      <td>93200.0</td>\n",
       "      <td>INLAND</td>\n",
       "      <td>1</td>\n",
       "    </tr>\n",
       "    <tr>\n",
       "      <th>4406</th>\n",
       "      <td>-118.24</td>\n",
       "      <td>34.08</td>\n",
       "      <td>52.0</td>\n",
       "      <td>137.0</td>\n",
       "      <td>26.0</td>\n",
       "      <td>65.0</td>\n",
       "      <td>24.0</td>\n",
       "      <td>4.0250</td>\n",
       "      <td>137500.0</td>\n",
       "      <td>&lt;1H OCEAN</td>\n",
       "      <td>2</td>\n",
       "    </tr>\n",
       "    <tr>\n",
       "      <th>6914</th>\n",
       "      <td>-117.98</td>\n",
       "      <td>33.94</td>\n",
       "      <td>36.0</td>\n",
       "      <td>4297.0</td>\n",
       "      <td>717.0</td>\n",
       "      <td>2038.0</td>\n",
       "      <td>700.0</td>\n",
       "      <td>5.2851</td>\n",
       "      <td>258800.0</td>\n",
       "      <td>&lt;1H OCEAN</td>\n",
       "      <td>3</td>\n",
       "    </tr>\n",
       "    <tr>\n",
       "      <th>9279</th>\n",
       "      <td>-122.60</td>\n",
       "      <td>38.11</td>\n",
       "      <td>23.0</td>\n",
       "      <td>8642.0</td>\n",
       "      <td>1294.0</td>\n",
       "      <td>3594.0</td>\n",
       "      <td>1253.0</td>\n",
       "      <td>5.3962</td>\n",
       "      <td>301500.0</td>\n",
       "      <td>&lt;1H OCEAN</td>\n",
       "      <td>3</td>\n",
       "    </tr>\n",
       "    <tr>\n",
       "      <th>...</th>\n",
       "      <td>...</td>\n",
       "      <td>...</td>\n",
       "      <td>...</td>\n",
       "      <td>...</td>\n",
       "      <td>...</td>\n",
       "      <td>...</td>\n",
       "      <td>...</td>\n",
       "      <td>...</td>\n",
       "      <td>...</td>\n",
       "      <td>...</td>\n",
       "      <td>...</td>\n",
       "    </tr>\n",
       "    <tr>\n",
       "      <th>9736</th>\n",
       "      <td>-121.70</td>\n",
       "      <td>36.77</td>\n",
       "      <td>21.0</td>\n",
       "      <td>2294.0</td>\n",
       "      <td>478.0</td>\n",
       "      <td>1306.0</td>\n",
       "      <td>430.0</td>\n",
       "      <td>3.0347</td>\n",
       "      <td>227200.0</td>\n",
       "      <td>&lt;1H OCEAN</td>\n",
       "      <td>2</td>\n",
       "    </tr>\n",
       "    <tr>\n",
       "      <th>16557</th>\n",
       "      <td>-121.27</td>\n",
       "      <td>37.82</td>\n",
       "      <td>26.0</td>\n",
       "      <td>1170.0</td>\n",
       "      <td>238.0</td>\n",
       "      <td>830.0</td>\n",
       "      <td>216.0</td>\n",
       "      <td>2.6458</td>\n",
       "      <td>127500.0</td>\n",
       "      <td>INLAND</td>\n",
       "      <td>1</td>\n",
       "    </tr>\n",
       "    <tr>\n",
       "      <th>18636</th>\n",
       "      <td>-122.01</td>\n",
       "      <td>37.03</td>\n",
       "      <td>21.0</td>\n",
       "      <td>5904.0</td>\n",
       "      <td>956.0</td>\n",
       "      <td>2616.0</td>\n",
       "      <td>916.0</td>\n",
       "      <td>5.9039</td>\n",
       "      <td>355300.0</td>\n",
       "      <td>NEAR OCEAN</td>\n",
       "      <td>3</td>\n",
       "    </tr>\n",
       "    <tr>\n",
       "      <th>3908</th>\n",
       "      <td>-118.52</td>\n",
       "      <td>34.20</td>\n",
       "      <td>19.0</td>\n",
       "      <td>4315.0</td>\n",
       "      <td>1304.0</td>\n",
       "      <td>2490.0</td>\n",
       "      <td>1222.0</td>\n",
       "      <td>2.6437</td>\n",
       "      <td>195000.0</td>\n",
       "      <td>&lt;1H OCEAN</td>\n",
       "      <td>1</td>\n",
       "    </tr>\n",
       "    <tr>\n",
       "      <th>3953</th>\n",
       "      <td>-118.65</td>\n",
       "      <td>34.21</td>\n",
       "      <td>5.0</td>\n",
       "      <td>5429.0</td>\n",
       "      <td>665.0</td>\n",
       "      <td>2315.0</td>\n",
       "      <td>687.0</td>\n",
       "      <td>9.6465</td>\n",
       "      <td>500001.0</td>\n",
       "      <td>&lt;1H OCEAN</td>\n",
       "      <td>4</td>\n",
       "    </tr>\n",
       "  </tbody>\n",
       "</table>\n",
       "<p>16512 rows × 11 columns</p>\n",
       "</div>"
      ],
      "text/plain": [
       "       longitude  latitude  housing_median_age  total_rooms  total_bedrooms  \\\n",
       "15493    -117.20     33.12                18.0       4372.0           736.0   \n",
       "2432     -119.53     36.65                43.0       1676.0           320.0   \n",
       "4406     -118.24     34.08                52.0        137.0            26.0   \n",
       "6914     -117.98     33.94                36.0       4297.0           717.0   \n",
       "9279     -122.60     38.11                23.0       8642.0          1294.0   \n",
       "...          ...       ...                 ...          ...             ...   \n",
       "9736     -121.70     36.77                21.0       2294.0           478.0   \n",
       "16557    -121.27     37.82                26.0       1170.0           238.0   \n",
       "18636    -122.01     37.03                21.0       5904.0           956.0   \n",
       "3908     -118.52     34.20                19.0       4315.0          1304.0   \n",
       "3953     -118.65     34.21                 5.0       5429.0           665.0   \n",
       "\n",
       "       population  households  median_income  median_house_value  \\\n",
       "15493      1473.0       675.0         5.1194            247800.0   \n",
       "2432       1056.0       276.0         2.5562             93200.0   \n",
       "4406         65.0        24.0         4.0250            137500.0   \n",
       "6914       2038.0       700.0         5.2851            258800.0   \n",
       "9279       3594.0      1253.0         5.3962            301500.0   \n",
       "...           ...         ...            ...                 ...   \n",
       "9736       1306.0       430.0         3.0347            227200.0   \n",
       "16557       830.0       216.0         2.6458            127500.0   \n",
       "18636      2616.0       916.0         5.9039            355300.0   \n",
       "3908       2490.0      1222.0         2.6437            195000.0   \n",
       "3953       2315.0       687.0         9.6465            500001.0   \n",
       "\n",
       "      ocean_proximity  cat_median_income  \n",
       "15493      NEAR OCEAN                  3  \n",
       "2432           INLAND                  1  \n",
       "4406        <1H OCEAN                  2  \n",
       "6914        <1H OCEAN                  3  \n",
       "9279        <1H OCEAN                  3  \n",
       "...               ...                ...  \n",
       "9736        <1H OCEAN                  2  \n",
       "16557          INLAND                  1  \n",
       "18636      NEAR OCEAN                  3  \n",
       "3908        <1H OCEAN                  1  \n",
       "3953        <1H OCEAN                  4  \n",
       "\n",
       "[16512 rows x 11 columns]"
      ]
     },
     "execution_count": 15,
     "metadata": {},
     "output_type": "execute_result"
    }
   ],
   "source": [
    "X_train"
   ]
  },
  {
   "cell_type": "code",
   "execution_count": null,
   "id": "e10599cb",
   "metadata": {},
   "outputs": [],
   "source": [
    "from housing.components.data_ingetion import DataIngetion\n",
    "\n",
    "DataIngetion()"
   ]
  },
  {
   "cell_type": "code",
   "execution_count": 1,
   "id": "3cb19bd4",
   "metadata": {},
   "outputs": [],
   "source": [
    "import os\n",
    "os.getcwd()\n",
    "os.chdir('c:\\\\Users\\\\om\\\\Desktop\\\\SQL_PROJECT\\\\')"
   ]
  },
  {
   "cell_type": "code",
   "execution_count": 7,
   "id": "e41bd47f",
   "metadata": {},
   "outputs": [
    {
     "name": "stdout",
     "output_type": "stream",
     "text": [
      "19_04_2024_21_57_51\n"
     ]
    }
   ],
   "source": [
    "os.path.join(os.getcwd(),'config','config.yaml')\n",
    "from datetime import datetime\n",
    "print()\n"
   ]
  },
  {
   "cell_type": "code",
   "execution_count": 6,
   "id": "ecba8587",
   "metadata": {},
   "outputs": [
    {
     "name": "stdout",
     "output_type": "stream",
     "text": [
      "data ingestion completed successfully\n"
     ]
    }
   ],
   "source": [
    "from config.configuration import Configuration\n",
    "from datetime import datetime\n",
    "from housing.pipeline.pipeline import Pipeline\n",
    "\n",
    "\n",
    "\n",
    "\n",
    "pipeline_obj = Pipeline()\n",
    "pipeline_obj.run_pipeline()"
   ]
  },
  {
   "cell_type": "code",
   "execution_count": 1,
   "id": "a3aa21a2",
   "metadata": {},
   "outputs": [
    {
     "ename": "CustomException",
     "evalue": "\n                        Error occured in script: \n                        [ C:\\Users\\om\\AppData\\Local\\Temp\\ipykernel_13288\\737424366.py ] at,\n                        at try line number[5]\n                        exception block line number [7]\n                        the error message [division by zero]",
     "output_type": "error",
     "traceback": [
      "\u001b[1;31m---------------------------------------------------------------------------\u001b[0m",
      "\u001b[1;31mZeroDivisionError\u001b[0m                         Traceback (most recent call last)",
      "Cell \u001b[1;32mIn[1], line 5\u001b[0m\n\u001b[0;32m      4\u001b[0m \u001b[38;5;28;01mtry\u001b[39;00m:\n\u001b[1;32m----> 5\u001b[0m     \u001b[38;5;241;43m1\u001b[39;49m\u001b[38;5;241;43m/\u001b[39;49m\u001b[38;5;241;43m0\u001b[39;49m\n\u001b[0;32m      6\u001b[0m \u001b[38;5;28;01mexcept\u001b[39;00m \u001b[38;5;167;01mException\u001b[39;00m \u001b[38;5;28;01mas\u001b[39;00m e:\n",
      "\u001b[1;31mZeroDivisionError\u001b[0m: division by zero",
      "\nThe above exception was the direct cause of the following exception:\n",
      "\u001b[1;31mCustomException\u001b[0m                           Traceback (most recent call last)",
      "Cell \u001b[1;32mIn[1], line 7\u001b[0m\n\u001b[0;32m      5\u001b[0m     \u001b[38;5;241m1\u001b[39m\u001b[38;5;241m/\u001b[39m\u001b[38;5;241m0\u001b[39m\n\u001b[0;32m      6\u001b[0m \u001b[38;5;28;01mexcept\u001b[39;00m \u001b[38;5;167;01mException\u001b[39;00m \u001b[38;5;28;01mas\u001b[39;00m e:\n\u001b[1;32m----> 7\u001b[0m     \u001b[38;5;28;01mraise\u001b[39;00m CustomException(e,sys) \u001b[38;5;28;01mfrom\u001b[39;00m \u001b[38;5;21;01me\u001b[39;00m\n",
      "\u001b[1;31mCustomException\u001b[0m: \n                        Error occured in script: \n                        [ C:\\Users\\om\\AppData\\Local\\Temp\\ipykernel_13288\\737424366.py ] at,\n                        at try line number[5]\n                        exception block line number [7]\n                        the error message [division by zero]"
     ]
    }
   ],
   "source": [
    "from housing.exception import CustomException\n",
    "import sys\n",
    "\n",
    "try:\n",
    "    1/0\n",
    "except Exception as e:\n",
    "    raise CustomException(e,sys) from e"
   ]
  },
  {
   "cell_type": "code",
   "execution_count": null,
   "id": "c8d21133",
   "metadata": {},
   "outputs": [],
   "source": []
  }
 ],
 "metadata": {
  "kernelspec": {
   "display_name": "Python 3 (ipykernel)",
   "language": "python",
   "name": "python3"
  },
  "language_info": {
   "codemirror_mode": {
    "name": "ipython",
    "version": 3
   },
   "file_extension": ".py",
   "mimetype": "text/x-python",
   "name": "python",
   "nbconvert_exporter": "python",
   "pygments_lexer": "ipython3",
   "version": "3.9.13"
  }
 },
 "nbformat": 4,
 "nbformat_minor": 5
}
