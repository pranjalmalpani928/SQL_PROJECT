{
 "cells": [
  {
   "cell_type": "code",
   "execution_count": 16,
   "id": "af820f22",
   "metadata": {},
   "outputs": [
    {
     "name": "stdout",
     "output_type": "stream",
     "text": [
      "['# SQL_PROJECT\\n', '\\\\\\\\\\\\\\n', 'conda activate condaVenv\\\\\\n', '\\\\\\\\\\\\\\n', '\\n', 'To setup CI - CD pipeline  we need \\n', '1. HEROKU_EMAIL\\n', '2. HEROKU_API_KEY\\n', '3. HEROKU_APP_NAME']\n"
     ]
    }
   ],
   "source": []
  },
  {
   "cell_type": "code",
   "execution_count": 30,
   "id": "ec25f4b6",
   "metadata": {},
   "outputs": [],
   "source": [
    "import sys\n",
    "\n",
    "class CustomException(Exception):\n",
    "    def __init__(self, error_message:Exception, error_details:sys):\n",
    "        super().__init__(error_message)\n",
    "        self.error_message=CustomException.customErrorMessage(error_message,error_details)\n",
    "\n",
    "\n",
    "#  static method are methods which can be called without calling the object\n",
    "    @staticmethod \n",
    "    def customErrorMessage(error_message:Exception,error_details:sys)->str:\n",
    "\n",
    "        # exception file path, line number\n",
    "        _,exc_obj,exc_tb=error_details.exc_info()\n",
    "        line_number=exc_tb.tb_frame.f_lineno\n",
    "        file_name=exc_tb.tb_frame.f_code.co_filename\n",
    "        error_message= f'Error occured in script [{file_name}], in the line number [{line_number}] with\\\n",
    "              the error message [{error_message}]'\n",
    "        return error_message\n",
    "    \n",
    "    def __str__(self):\n",
    "        return self.error_message\n",
    "    \n",
    "    "
   ]
  },
  {
   "cell_type": "code",
   "execution_count": 31,
   "id": "35a8764c",
   "metadata": {},
   "outputs": [],
   "source": [
    "try:\n",
    "    raise Exception('we are testing custom exception')\n",
    "except Exception as e:\n",
    "    CustomException(e,sys)\n",
    "   "
   ]
  },
  {
   "cell_type": "code",
   "execution_count": 14,
   "id": "1970a60d",
   "metadata": {},
   "outputs": [],
   "source": [
    "class NewClass:\n",
    "    def __init__(self):\n",
    "        print('new class')\n",
    "\n",
    "class Demo:\n",
    "    def __init__(self,obj:NewClass):\n",
    "        self.obj=obj\n",
    "        \n",
    "    def __str__(self):\n",
    "        return 'we are understanding str funtion'\n",
    "\n",
    "    def __repr__(self):\n",
    "        return self.obj"
   ]
  },
  {
   "cell_type": "code",
   "execution_count": 15,
   "id": "e8b17ac8",
   "metadata": {},
   "outputs": [
    {
     "name": "stdout",
     "output_type": "stream",
     "text": [
      "new class\n"
     ]
    },
    {
     "ename": "TypeError",
     "evalue": "__repr__ returned non-string (type NewClass)",
     "output_type": "error",
     "traceback": [
      "\u001b[1;31m---------------------------------------------------------------------------\u001b[0m",
      "\u001b[1;31mTypeError\u001b[0m                                 Traceback (most recent call last)",
      "\u001b[1;32m~\\anaconda3\\lib\\site-packages\\IPython\\core\\formatters.py\u001b[0m in \u001b[0;36m__call__\u001b[1;34m(self, obj)\u001b[0m\n\u001b[0;32m    700\u001b[0m                 \u001b[0mtype_pprinters\u001b[0m\u001b[1;33m=\u001b[0m\u001b[0mself\u001b[0m\u001b[1;33m.\u001b[0m\u001b[0mtype_printers\u001b[0m\u001b[1;33m,\u001b[0m\u001b[1;33m\u001b[0m\u001b[1;33m\u001b[0m\u001b[0m\n\u001b[0;32m    701\u001b[0m                 deferred_pprinters=self.deferred_printers)\n\u001b[1;32m--> 702\u001b[1;33m             \u001b[0mprinter\u001b[0m\u001b[1;33m.\u001b[0m\u001b[0mpretty\u001b[0m\u001b[1;33m(\u001b[0m\u001b[0mobj\u001b[0m\u001b[1;33m)\u001b[0m\u001b[1;33m\u001b[0m\u001b[1;33m\u001b[0m\u001b[0m\n\u001b[0m\u001b[0;32m    703\u001b[0m             \u001b[0mprinter\u001b[0m\u001b[1;33m.\u001b[0m\u001b[0mflush\u001b[0m\u001b[1;33m(\u001b[0m\u001b[1;33m)\u001b[0m\u001b[1;33m\u001b[0m\u001b[1;33m\u001b[0m\u001b[0m\n\u001b[0;32m    704\u001b[0m             \u001b[1;32mreturn\u001b[0m \u001b[0mstream\u001b[0m\u001b[1;33m.\u001b[0m\u001b[0mgetvalue\u001b[0m\u001b[1;33m(\u001b[0m\u001b[1;33m)\u001b[0m\u001b[1;33m\u001b[0m\u001b[1;33m\u001b[0m\u001b[0m\n",
      "\u001b[1;32m~\\anaconda3\\lib\\site-packages\\IPython\\lib\\pretty.py\u001b[0m in \u001b[0;36mpretty\u001b[1;34m(self, obj)\u001b[0m\n\u001b[0;32m    392\u001b[0m                         \u001b[1;32mif\u001b[0m \u001b[0mcls\u001b[0m \u001b[1;32mis\u001b[0m \u001b[1;32mnot\u001b[0m \u001b[0mobject\u001b[0m\u001b[0;31m \u001b[0m\u001b[0;31m\\\u001b[0m\u001b[1;33m\u001b[0m\u001b[1;33m\u001b[0m\u001b[0m\n\u001b[0;32m    393\u001b[0m                                 \u001b[1;32mand\u001b[0m \u001b[0mcallable\u001b[0m\u001b[1;33m(\u001b[0m\u001b[0mcls\u001b[0m\u001b[1;33m.\u001b[0m\u001b[0m__dict__\u001b[0m\u001b[1;33m.\u001b[0m\u001b[0mget\u001b[0m\u001b[1;33m(\u001b[0m\u001b[1;34m'__repr__'\u001b[0m\u001b[1;33m)\u001b[0m\u001b[1;33m)\u001b[0m\u001b[1;33m:\u001b[0m\u001b[1;33m\u001b[0m\u001b[1;33m\u001b[0m\u001b[0m\n\u001b[1;32m--> 394\u001b[1;33m                             \u001b[1;32mreturn\u001b[0m \u001b[0m_repr_pprint\u001b[0m\u001b[1;33m(\u001b[0m\u001b[0mobj\u001b[0m\u001b[1;33m,\u001b[0m \u001b[0mself\u001b[0m\u001b[1;33m,\u001b[0m \u001b[0mcycle\u001b[0m\u001b[1;33m)\u001b[0m\u001b[1;33m\u001b[0m\u001b[1;33m\u001b[0m\u001b[0m\n\u001b[0m\u001b[0;32m    395\u001b[0m \u001b[1;33m\u001b[0m\u001b[0m\n\u001b[0;32m    396\u001b[0m             \u001b[1;32mreturn\u001b[0m \u001b[0m_default_pprint\u001b[0m\u001b[1;33m(\u001b[0m\u001b[0mobj\u001b[0m\u001b[1;33m,\u001b[0m \u001b[0mself\u001b[0m\u001b[1;33m,\u001b[0m \u001b[0mcycle\u001b[0m\u001b[1;33m)\u001b[0m\u001b[1;33m\u001b[0m\u001b[1;33m\u001b[0m\u001b[0m\n",
      "\u001b[1;32m~\\anaconda3\\lib\\site-packages\\IPython\\lib\\pretty.py\u001b[0m in \u001b[0;36m_repr_pprint\u001b[1;34m(obj, p, cycle)\u001b[0m\n\u001b[0;32m    698\u001b[0m     \u001b[1;34m\"\"\"A pprint that just redirects to the normal repr function.\"\"\"\u001b[0m\u001b[1;33m\u001b[0m\u001b[1;33m\u001b[0m\u001b[0m\n\u001b[0;32m    699\u001b[0m     \u001b[1;31m# Find newlines and replace them with p.break_()\u001b[0m\u001b[1;33m\u001b[0m\u001b[1;33m\u001b[0m\u001b[0m\n\u001b[1;32m--> 700\u001b[1;33m     \u001b[0moutput\u001b[0m \u001b[1;33m=\u001b[0m \u001b[0mrepr\u001b[0m\u001b[1;33m(\u001b[0m\u001b[0mobj\u001b[0m\u001b[1;33m)\u001b[0m\u001b[1;33m\u001b[0m\u001b[1;33m\u001b[0m\u001b[0m\n\u001b[0m\u001b[0;32m    701\u001b[0m     \u001b[0mlines\u001b[0m \u001b[1;33m=\u001b[0m \u001b[0moutput\u001b[0m\u001b[1;33m.\u001b[0m\u001b[0msplitlines\u001b[0m\u001b[1;33m(\u001b[0m\u001b[1;33m)\u001b[0m\u001b[1;33m\u001b[0m\u001b[1;33m\u001b[0m\u001b[0m\n\u001b[0;32m    702\u001b[0m     \u001b[1;32mwith\u001b[0m \u001b[0mp\u001b[0m\u001b[1;33m.\u001b[0m\u001b[0mgroup\u001b[0m\u001b[1;33m(\u001b[0m\u001b[1;33m)\u001b[0m\u001b[1;33m:\u001b[0m\u001b[1;33m\u001b[0m\u001b[1;33m\u001b[0m\u001b[0m\n",
      "\u001b[1;31mTypeError\u001b[0m: __repr__ returned non-string (type NewClass)"
     ]
    }
   ],
   "source": [
    "new_class=NewClass()\n",
    "Demo(new_class)"
   ]
  },
  {
   "cell_type": "code",
   "execution_count": 1,
   "id": "9f79d912",
   "metadata": {},
   "outputs": [],
   "source": [
    "import os"
   ]
  },
  {
   "cell_type": "code",
   "execution_count": 2,
   "id": "4c53954f",
   "metadata": {},
   "outputs": [
    {
     "data": {
      "text/plain": [
       "'c:\\\\Users\\\\om\\\\Desktop\\\\SQL_PROJECT\\\\notebook'"
      ]
     },
     "execution_count": 2,
     "metadata": {},
     "output_type": "execute_result"
    }
   ],
   "source": [
    "os.getcwd()"
   ]
  },
  {
   "cell_type": "code",
   "execution_count": 3,
   "id": "05c8b10a",
   "metadata": {},
   "outputs": [],
   "source": [
    "os.chdir('c:\\\\Users\\\\om\\\\Desktop\\\\SQL_PROJECT')"
   ]
  },
  {
   "cell_type": "code",
   "execution_count": 4,
   "id": "7df1c017",
   "metadata": {},
   "outputs": [
    {
     "data": {
      "text/plain": [
       "'c:\\\\Users\\\\om\\\\Desktop\\\\SQL_PROJECT'"
      ]
     },
     "execution_count": 4,
     "metadata": {},
     "output_type": "execute_result"
    }
   ],
   "source": [
    "os.getcwd()"
   ]
  },
  {
   "cell_type": "code",
   "execution_count": 26,
   "id": "af68eb8e",
   "metadata": {},
   "outputs": [
    {
     "name": "stdout",
     "output_type": "stream",
     "text": [
      "Requirement already satisfied: pyYAML in c:\\users\\om\\desktop\\sql_project\\venv\\lib\\site-packages (6.0.1)\n",
      "Collecting bs4\n",
      "  Downloading bs4-0.0.2-py2.py3-none-any.whl.metadata (411 bytes)\n",
      "Collecting beautifulsoup4 (from bs4)\n",
      "  Downloading beautifulsoup4-4.12.3-py3-none-any.whl.metadata (3.8 kB)\n",
      "Collecting soupsieve>1.2 (from beautifulsoup4->bs4)\n",
      "  Downloading soupsieve-2.5-py3-none-any.whl.metadata (4.7 kB)\n",
      "Downloading bs4-0.0.2-py2.py3-none-any.whl (1.2 kB)\n",
      "Downloading beautifulsoup4-4.12.3-py3-none-any.whl (147 kB)\n",
      "   ---------------------------------------- 0.0/147.9 kB ? eta -:--:--\n",
      "   -------- ------------------------------- 30.7/147.9 kB 1.4 MB/s eta 0:00:01\n",
      "   ---------- ---------------------------- 41.0/147.9 kB 393.8 kB/s eta 0:00:01\n",
      "   --------------------- ----------------- 81.9/147.9 kB 573.4 kB/s eta 0:00:01\n",
      "   --------------------- ----------------- 81.9/147.9 kB 573.4 kB/s eta 0:00:01\n",
      "   --------------------- ----------------- 81.9/147.9 kB 573.4 kB/s eta 0:00:01\n",
      "   ------------------------------------ - 143.4/147.9 kB 473.7 kB/s eta 0:00:01\n",
      "   -------------------------------------- 147.9/147.9 kB 463.6 kB/s eta 0:00:00\n",
      "Downloading soupsieve-2.5-py3-none-any.whl (36 kB)\n",
      "Installing collected packages: soupsieve, beautifulsoup4, bs4\n",
      "Successfully installed beautifulsoup4-4.12.3 bs4-0.0.2 soupsieve-2.5\n"
     ]
    }
   ],
   "source": [
    "! pip install pyYAML\n",
    "! pip install bs4"
   ]
  },
  {
   "cell_type": "code",
   "execution_count": 29,
   "id": "bf64727f",
   "metadata": {},
   "outputs": [
    {
     "name": "stdout",
     "output_type": "stream",
     "text": [
      "{'training_pipeline_config': {'pipeline_name': 'housing', 'artifact_dir': 'artifacts'}, 'data_ingetion_config': {'dataset_download_url': None, 'raw_data_dir': 'raw_data', 'tgz_download_url': 'tgz_data', 'ingested_data_dir': 'ingested_data', 'ingetsted_train_dir': 'train', 'ingested_test_dir': 'test'}, 'data_validation_config': {'schema_file_name': 'schema_file'}, 'data_transformation_config': {'add_bedroom_per_room_var': True, 'transformed_data': 'transformed_data', 'transformed_train_data': 'train', 'transformed_test_data': 'test', 'preprocessing_dir': 'preprocessed', 'preprocessed_object_file_name': 'preprocessed.pkl'}, 'model_trainer_config': {'trained_model_dir': 'trained_model', 'model_file_name': 'model.pkl', 'base_accuracy': 0.6}, 'model_evaluation_config': {'model_evaluation_file_name': 'model_evaluation.yaml'}, 'model_pusher_config': {'model_export_dir': 'saved_model'}}\n"
     ]
    }
   ],
   "source": [
    "import yaml\n",
    "from bs4 import BeautifulSoup as bs\n",
    "\n",
    "file_path=os.path.join(os.getcwd(),  'config', 'config.yaml')\n",
    "\n",
    "with open(file_path,'r') as file:\n",
    "    print(yaml.safe_load(file))"
   ]
  },
  {
   "cell_type": "code",
   "execution_count": 4,
   "id": "6981c79d",
   "metadata": {},
   "outputs": [
    {
     "name": "stdout",
     "output_type": "stream",
     "text": [
      "16/04/2024 08:16:28\n"
     ]
    }
   ],
   "source": [
    "from housing.constants.constants import *\n",
    "\n",
    "print(CURRENT_TIMESTAMP)"
   ]
  },
  {
   "cell_type": "code",
   "execution_count": 25,
   "id": "85db64ab",
   "metadata": {},
   "outputs": [
    {
     "ename": "NameError",
     "evalue": "name 'TRAINING_PIPELINE_CONFIG_KEY' is not defined",
     "output_type": "error",
     "traceback": [
      "\u001b[1;31m---------------------------------------------------------------------------\u001b[0m",
      "\u001b[1;31mNameError\u001b[0m                                 Traceback (most recent call last)",
      "Cell \u001b[1;32mIn[25], line 3\u001b[0m\n\u001b[0;32m      1\u001b[0m \u001b[38;5;28;01mfrom\u001b[39;00m \u001b[38;5;21;01mhousing\u001b[39;00m\u001b[38;5;21;01m.\u001b[39;00m\u001b[38;5;21;01mconstants\u001b[39;00m \u001b[38;5;28;01mimport\u001b[39;00m constants\n\u001b[0;32m      2\u001b[0m \u001b[38;5;28;01mfrom\u001b[39;00m \u001b[38;5;21;01mhousing\u001b[39;00m\u001b[38;5;21;01m.\u001b[39;00m\u001b[38;5;21;01mutils\u001b[39;00m \u001b[38;5;28;01mimport\u001b[39;00m read_yaml_file\n\u001b[1;32m----> 3\u001b[0m training_pipeline_config\u001b[38;5;241m=\u001b[39mvariable[\u001b[43mTRAINING_PIPELINE_CONFIG_KEY\u001b[49m]\n\u001b[0;32m      4\u001b[0m artifact_dir\u001b[38;5;241m=\u001b[39mos\u001b[38;5;241m.\u001b[39mpath\u001b[38;5;241m.\u001b[39mjoin(ROOT_DIR,\n\u001b[0;32m      5\u001b[0m                             training_pipeline_config[constants\u001b[38;5;241m.\u001b[39mTRAINING_PIPELINE_NAME_KEY],\n\u001b[0;32m      6\u001b[0m                             training_pipeline_config[constants\u001b[38;5;241m.\u001b[39mTRAINING_PIPELINE_ARTIFACT_DIR_KEY])\n",
      "\u001b[1;31mNameError\u001b[0m: name 'TRAINING_PIPELINE_CONFIG_KEY' is not defined"
     ]
    }
   ],
   "source": [
    "from housing.constants import constants\n",
    "from housing.utils import read_yaml_file\n",
    "training_pipeline_config=variable[TRAINING_PIPELINE_CONFIG_KEY]\n",
    "artifact_dir=os.path.join(ROOT_DIR,\n",
    "                            training_pipeline_config[constants.TRAINING_PIPELINE_NAME_KEY],\n",
    "                            training_pipeline_config[constants.TRAINING_PIPELINE_ARTIFACT_DIR_KEY])"
   ]
  },
  {
   "cell_type": "code",
   "execution_count": 13,
   "id": "967f83d0",
   "metadata": {},
   "outputs": [
    {
     "data": {
      "text/plain": [
       "'c:\\\\Users\\\\om\\\\Desktop\\\\SQL_PROJECT\\\\notebook'"
      ]
     },
     "execution_count": 13,
     "metadata": {},
     "output_type": "execute_result"
    }
   ],
   "source": [
    "os.getcwd()"
   ]
  },
  {
   "cell_type": "code",
   "execution_count": 14,
   "id": "7b80a7e9",
   "metadata": {},
   "outputs": [],
   "source": [
    "os.chdir('c:\\\\Users\\\\om\\\\Desktop\\\\SQL_PROJECT')"
   ]
  },
  {
   "cell_type": "code",
   "execution_count": 16,
   "id": "cb7e100c",
   "metadata": {},
   "outputs": [
    {
     "data": {
      "text/plain": [
       "'c:\\\\Users\\\\om\\\\Desktop\\\\SQL_PROJECT'"
      ]
     },
     "execution_count": 16,
     "metadata": {},
     "output_type": "execute_result"
    }
   ],
   "source": [
    "os.getcwd()"
   ]
  },
  {
   "cell_type": "code",
   "execution_count": 24,
   "id": "63688ea3",
   "metadata": {},
   "outputs": [],
   "source": [
    "from housing.utils import read_yaml_file\n",
    "from housing.constants.constants import ROOT_DIR\n",
    "variable=read_yaml_file(os.path.join(os.getcwd(),'config','config.yaml'))"
   ]
  },
  {
   "cell_type": "code",
   "execution_count": 5,
   "id": "0d703e66",
   "metadata": {},
   "outputs": [],
   "source": [
    "import os\n",
    "os.getcwd()\n",
    "os.chdir('c:\\\\Users\\\\om\\\\Desktop\\\\SQL_PROJECT\\\\')"
   ]
  },
  {
   "cell_type": "code",
   "execution_count": 32,
   "id": "56e57968",
   "metadata": {},
   "outputs": [
    {
     "name": "stdout",
     "output_type": "stream",
     "text": [
      "c:\\Users\\om\\Desktop\\SQL_PROJECT\\config\\config.yaml\n"
     ]
    }
   ],
   "source": [
    "os.getcwd()\n",
    "path=os.path.join(os.getcwd(),'config','config.yaml')\n",
    "print(path)"
   ]
  },
  {
   "cell_type": "code",
   "execution_count": 24,
   "id": "92b6137a",
   "metadata": {},
   "outputs": [],
   "source": [
    "\n",
    "\n"
   ]
  },
  {
   "cell_type": "code",
   "execution_count": 1,
   "id": "472225da",
   "metadata": {},
   "outputs": [],
   "source": [
    "import yaml\n",
    "import sys\n",
    "from housing.exception import CustomException\n",
    "\n",
    "def read_yaml_file(file_path:str)->dict:\n",
    "    try:\n",
    "        with open(file_path,'r') as file:\n",
    "            return yaml.safe_load(file)\n",
    "    except Exception as e:\n",
    "        raise CustomException(e,sys) from e"
   ]
  },
  {
   "cell_type": "code",
   "execution_count": 2,
   "id": "eed41bbe",
   "metadata": {},
   "outputs": [
    {
     "ename": "NameError",
     "evalue": "name 'path' is not defined",
     "output_type": "error",
     "traceback": [
      "\u001b[1;31m---------------------------------------------------------------------------\u001b[0m",
      "\u001b[1;31mNameError\u001b[0m                                 Traceback (most recent call last)",
      "Cell \u001b[1;32mIn[2], line 1\u001b[0m\n\u001b[1;32m----> 1\u001b[0m read_yaml_file(\u001b[43mpath\u001b[49m)\n",
      "\u001b[1;31mNameError\u001b[0m: name 'path' is not defined"
     ]
    }
   ],
   "source": [
    "read_yaml_file(path)"
   ]
  },
  {
   "cell_type": "code",
   "execution_count": null,
   "id": "73230fda",
   "metadata": {},
   "outputs": [
    {
     "data": {
      "text/plain": [
       "'c:\\\\Users\\\\om\\\\Desktop\\\\SQL_PROJECT\\\\notebook'"
      ]
     },
     "execution_count": 4,
     "metadata": {},
     "output_type": "execute_result"
    }
   ],
   "source": [
    "import os\n",
    "os.getcwd()"
   ]
  },
  {
   "cell_type": "code",
   "execution_count": 3,
   "id": "f5d6714e",
   "metadata": {},
   "outputs": [
    {
     "ename": "NameError",
     "evalue": "name 'os' is not defined",
     "output_type": "error",
     "traceback": [
      "\u001b[1;31m---------------------------------------------------------------------------\u001b[0m",
      "\u001b[1;31mNameError\u001b[0m                                 Traceback (most recent call last)",
      "Cell \u001b[1;32mIn[3], line 1\u001b[0m\n\u001b[1;32m----> 1\u001b[0m \u001b[43mos\u001b[49m\u001b[38;5;241m.\u001b[39mchdir(\u001b[38;5;124m'\u001b[39m\u001b[38;5;124mc:\u001b[39m\u001b[38;5;130;01m\\\\\u001b[39;00m\u001b[38;5;124mUsers\u001b[39m\u001b[38;5;130;01m\\\\\u001b[39;00m\u001b[38;5;124mom\u001b[39m\u001b[38;5;130;01m\\\\\u001b[39;00m\u001b[38;5;124mDesktop\u001b[39m\u001b[38;5;130;01m\\\\\u001b[39;00m\u001b[38;5;124mSQL_PROJECT\u001b[39m\u001b[38;5;124m'\u001b[39m)\n",
      "\u001b[1;31mNameError\u001b[0m: name 'os' is not defined"
     ]
    }
   ],
   "source": [
    "os.chdir('c:\\\\Users\\\\om\\\\Desktop\\\\SQL_PROJECT')"
   ]
  },
  {
   "cell_type": "code",
   "execution_count": 11,
   "id": "fa1dd07e",
   "metadata": {},
   "outputs": [
    {
     "name": "stdout",
     "output_type": "stream",
     "text": [
      "TrainingPipelineConfig(artifacts_dir='c:\\\\Users\\\\om\\\\Desktop\\\\SQL_PROJECT\\\\housing\\\\artifacts')\n"
     ]
    }
   ],
   "source": [
    "# Correct Code\n",
    "\n",
    "from config.configuration import Configuration\n",
    "from housing.entity.config_entity import *\n",
    "from housing.utils import read_yaml_file\n",
    "from housing.constants.constants import *\n",
    "from housing.exception import CustomException\n",
    "from datetime import datetime\n",
    "import sys\n",
    "\n",
    "try:\n",
    "    pipeline_config=Configuration(os.path.join(os.getcwd(),'config','config.yaml'),datetime.now().strftime('%d_%m_%Y_%H_%M_%S'))\n",
    "    print(pipeline_config.get_training_pipeline_config())\n",
    "except Exception as e:\n",
    "    raise CustomException(e,sys) from e"
   ]
  },
  {
   "cell_type": "code",
   "execution_count": 5,
   "id": "363032d2",
   "metadata": {},
   "outputs": [
    {
     "ename": "NameError",
     "evalue": "name 'os' is not defined",
     "output_type": "error",
     "traceback": [
      "\u001b[1;31m---------------------------------------------------------------------------\u001b[0m",
      "\u001b[1;31mNameError\u001b[0m                                 Traceback (most recent call last)",
      "Cell \u001b[1;32mIn[5], line 1\u001b[0m\n\u001b[1;32m----> 1\u001b[0m \u001b[43mos\u001b[49m\u001b[38;5;241m.\u001b[39mpath\u001b[38;5;241m.\u001b[39mjoin(os\u001b[38;5;241m.\u001b[39mgetcwd(),\u001b[38;5;124m'\u001b[39m\u001b[38;5;124mconfig\u001b[39m\u001b[38;5;124m'\u001b[39m,\u001b[38;5;124m'\u001b[39m\u001b[38;5;124mconfig.yaml\u001b[39m\u001b[38;5;124m'\u001b[39m)\n\u001b[0;32m      2\u001b[0m \u001b[38;5;28mprint\u001b[39m()\n",
      "\u001b[1;31mNameError\u001b[0m: name 'os' is not defined"
     ]
    }
   ],
   "source": [
    "os.path.join(os.getcwd(),'config','config.yaml')\n",
    "print()"
   ]
  },
  {
   "cell_type": "code",
   "execution_count": 1,
   "id": "dbf12b0c",
   "metadata": {},
   "outputs": [
    {
     "data": {
      "text/plain": [
       "'c:\\\\Users\\\\om\\\\Desktop\\\\SQL_PROJECT\\\\notebook'"
      ]
     },
     "execution_count": 1,
     "metadata": {},
     "output_type": "execute_result"
    }
   ],
   "source": [
    "import os\n",
    "os.getcwd()"
   ]
  },
  {
   "cell_type": "code",
   "execution_count": 2,
   "id": "abc63e0a",
   "metadata": {},
   "outputs": [],
   "source": [
    "os.chdir('c:\\\\Users\\\\om\\\\Desktop\\\\SQL_PROJECT')"
   ]
  },
  {
   "cell_type": "code",
   "execution_count": 3,
   "id": "24e1debf",
   "metadata": {},
   "outputs": [],
   "source": [
    "# data validation configuration code written by me\n",
    "from housing.entity.config_entity import DataValidationConfig,TrainingPipelineConfig\n",
    "from housing.exception import CustomException\n",
    "from housing.constants.constants import *\n",
    "from housing.utils import read_yaml_file\n",
    "import os, sys\n",
    "config_info=read_yaml_file(os.path.join(os.getcwd(),'config','config.yaml'))\n",
    "def get_data_validation_config(config_info:dict)->DataValidationConfig:\n",
    "    try:\n",
    "        config_dictonary=config_info['data_validation_config']\n",
    "        print(config_dictonary)\n",
    "        schema_file=os.path.join(os.getcwd(),'housing','constants',config_dictonary['schema_file_name'])\n",
    "        data_validation_config=DataValidationConfig(schema_file_path=schema_file)\n",
    "        return data_validation_config\n",
    "    except Exception as e:\n",
    "        raise CustomException(e,sys) from e\n",
    "\n",
    "\n",
    "def get_training_pipeline_config(config_info:dict)->TrainingPipelineConfig:\n",
    "        try:\n",
    "            training_pipeline_config=config_info[TRAINING_PIPELINE_CONFIG_KEY]\n",
    "            artifact_dir=os.path.join(ROOT_DIR,\n",
    "                                      training_pipeline_config[TRAINING_PIPELINE_NAME_KEY],\n",
    "                                      training_pipeline_config[TRAINING_PIPELINE_ARTIFACT_DIR_KEY])\n",
    "            training_pipeline_config=TrainingPipelineConfig(artifact_dir)\n",
    "            return training_pipeline_config\n",
    "        except Exception as e:\n",
    "            raise CustomException(e,sys) from e"
   ]
  },
  {
   "cell_type": "code",
   "execution_count": 4,
   "id": "69fc2c9c",
   "metadata": {},
   "outputs": [
    {
     "name": "stdout",
     "output_type": "stream",
     "text": [
      "{'schema_file_name': 'schema_file'}\n",
      "DataValidationConfig(schema_file_path='c:\\\\Users\\\\om\\\\Desktop\\\\SQL_PROJECT\\\\housing\\\\constants\\\\schema_file')\n",
      "\n"
     ]
    }
   ],
   "source": [
    "print(get_data_validation_config(config_info))\n",
    "print()"
   ]
  },
  {
   "cell_type": "code",
   "execution_count": 5,
   "id": "c52fe67e",
   "metadata": {},
   "outputs": [
    {
     "data": {
      "text/plain": [
       "{'training_pipeline_config': {'pipeline_name': 'housing',\n",
       "  'artifact_dir': 'artifacts'},\n",
       " 'data_ingetion_config': {'dataset_download_url': 'None',\n",
       "  'raw_data_dir': 'raw_data',\n",
       "  'tgz_download_url': 'tgz_data',\n",
       "  'ingested_data_dir': 'ingested_data',\n",
       "  'ingested_train_dir': 'train',\n",
       "  'ingested_test_dir': 'test'},\n",
       " 'data_validation_config': {'schema_file_name': 'schema_file'},\n",
       " 'data_transformation_config': {'add_bedroom_per_room_var': True,\n",
       "  'transformed_data': 'transformed_data',\n",
       "  'transformed_train_data': 'train',\n",
       "  'transformed_test_data': 'test',\n",
       "  'preprocessing_dir': 'preprocessed',\n",
       "  'preprocessed_object_file_name': 'preprocessed.pkl'},\n",
       " 'model_trainer_config': {'trained_model_dir': 'trained_model',\n",
       "  'model_file_name': 'model.pkl',\n",
       "  'base_accuracy': 0.6},\n",
       " 'model_evaluation_config': {'model_evaluation_file_name': 'model_evaluation.yaml'},\n",
       " 'model_pusher_config': {'model_export_dir': 'saved_model'}}"
      ]
     },
     "execution_count": 5,
     "metadata": {},
     "output_type": "execute_result"
    }
   ],
   "source": [
    "config_info"
   ]
  },
  {
   "cell_type": "code",
   "execution_count": null,
   "id": "f890f119",
   "metadata": {},
   "outputs": [],
   "source": []
  },
  {
   "cell_type": "code",
   "execution_count": 6,
   "id": "12d47165",
   "metadata": {},
   "outputs": [],
   "source": [
    "from housing.entity.config_entity import DataIngetionConfig\n",
    "from housing.exception import CustomException\n",
    "\n",
    "def get_data_ingetion_config(config_info:dict)->DataIngetionConfig:\n",
    "    try:\n",
    "        data_ingetion_config_dict=config_info['data_ingetion_config']\n",
    "        data_ingetion_dir=os.path.join(get_training_pipeline_config(config_info).artifacts_dir,'data_ingetion')\n",
    "        raw_data_dir=os.path.join(data_ingetion_dir,data_ingetion_config_dict['raw_data_dir'])\n",
    "        tgz_data_dir=os.path.join(data_ingetion_dir,data_ingetion_config_dict['tgz_download_url'])\n",
    "        ingested_data_dir=os.path.join(data_ingetion_dir,data_ingetion_config_dict['ingested_data_dir'])\n",
    "        ingested_train_dir=os.path.join(ingested_data_dir,data_ingetion_config_dict['ingested_train_dir'])\n",
    "        ingested_test_dir=os.path.join(ingested_data_dir,data_ingetion_config_dict['ingested_test_dir'])\n",
    "        \n",
    "        # print(data_ingetion_config_dict)\n",
    "        # print(data_ingetion_dir)\n",
    "        # print(raw_data_dir)\n",
    "        # print(tgz_data_dir)\n",
    "        # print(ingested_data_dir)\n",
    "        # print(ingested_train_dir)\n",
    "        # print(ingested_test_dir)\n",
    "        return DataIngetionConfig(dataset_url=data_ingetion_config_dict['dataset_download_url'],\n",
    "                                  tgz_download_url=tgz_data_dir,\n",
    "                                  ingested_train_dir=ingested_train_dir,\n",
    "                                  ingested_test_dir=ingested_test_dir)\n",
    "    except Exception as e:\n",
    "        raise CustomException(e,sys) from e\n",
    "    "
   ]
  },
  {
   "cell_type": "code",
   "execution_count": 11,
   "id": "c34e4093",
   "metadata": {},
   "outputs": [
    {
     "name": "stdout",
     "output_type": "stream",
     "text": [
      "{'dataset_download_url': 'None', 'raw_data_dir': 'raw_data', 'tgz_download_url': 'tgz_data', 'ingested_data_dir': 'ingested_data', 'ingested_train_dir': 'train', 'ingested_test_dir': 'test'}\n",
      "{'dataset_download_url': 'None', 'raw_data_dir': 'raw_data', 'tgz_download_url': 'tgz_data', 'ingested_data_dir': 'ingested_data', 'ingested_train_dir': 'train', 'ingested_test_dir': 'test'}\n",
      "c:\\Users\\om\\Desktop\\SQL_PROJECT\\housing\\artifacts\\data_ingetion\n",
      "c:\\Users\\om\\Desktop\\SQL_PROJECT\\housing\\artifacts\\data_ingetion\\raw_data\n",
      "c:\\Users\\om\\Desktop\\SQL_PROJECT\\housing\\artifacts\\data_ingetion\\tgz_data\n",
      "c:\\Users\\om\\Desktop\\SQL_PROJECT\\housing\\artifacts\\data_ingetion\\ingested_data\n",
      "c:\\Users\\om\\Desktop\\SQL_PROJECT\\housing\\artifacts\\data_ingetion\\ingested_data\\train\n",
      "c:\\Users\\om\\Desktop\\SQL_PROJECT\\housing\\artifacts\\data_ingetion\\ingested_data\\test\n",
      "DataIngetionConfig(dataset_url='None', tgz_download_url='c:\\\\Users\\\\om\\\\Desktop\\\\SQL_PROJECT\\\\housing\\\\artifacts\\\\data_ingetion\\\\tgz_data', ingested_train_dir='c:\\\\Users\\\\om\\\\Desktop\\\\SQL_PROJECT\\\\housing\\\\artifacts\\\\data_ingetion\\\\ingested_data\\\\train', ingested_test_dir='c:\\\\Users\\\\om\\\\Desktop\\\\SQL_PROJECT\\\\housing\\\\artifacts\\\\data_ingetion\\\\ingested_data\\\\test')\n"
     ]
    }
   ],
   "source": [
    "from config.configuration import Configuration\n",
    "try:\n",
    "    pipeline_config=Configuration(os.path.join(os.getcwd(),'config','config.yaml'),datetime.now().strftime('%d_%m_%Y_%H_%M_%S'))\n",
    "    print(pipeline_config.get_data_ingetion_config())\n",
    "except Exception as e:\n",
    "    raise CustomException(e,sys) from e"
   ]
  },
  {
   "cell_type": "code",
   "execution_count": 8,
   "id": "77ada6f3",
   "metadata": {},
   "outputs": [
    {
     "data": {
      "text/plain": [
       "'train'"
      ]
     },
     "execution_count": 8,
     "metadata": {},
     "output_type": "execute_result"
    }
   ],
   "source": [
    "config_info['data_ingetion_config']['ingested_train_dir']"
   ]
  },
  {
   "cell_type": "code",
   "execution_count": null,
   "id": "ca7dd55a",
   "metadata": {},
   "outputs": [],
   "source": []
  },
  {
   "cell_type": "code",
   "execution_count": null,
   "id": "bcd3aeca",
   "metadata": {},
   "outputs": [],
   "source": []
  }
 ],
 "metadata": {
  "kernelspec": {
   "display_name": "Python 3 (ipykernel)",
   "language": "python",
   "name": "python3"
  },
  "language_info": {
   "codemirror_mode": {
    "name": "ipython",
    "version": 3
   },
   "file_extension": ".py",
   "mimetype": "text/x-python",
   "name": "python",
   "nbconvert_exporter": "python",
   "pygments_lexer": "ipython3",
   "version": "3.9.13"
  }
 },
 "nbformat": 4,
 "nbformat_minor": 5
}
